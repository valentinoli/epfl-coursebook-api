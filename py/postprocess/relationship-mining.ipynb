{
 "cells": [
  {
   "cell_type": "code",
   "execution_count": 1,
   "metadata": {},
   "outputs": [],
   "source": [
    "import re\n",
    "import pandas as pd\n",
    "from utils import read, write"
   ]
  },
  {
   "cell_type": "markdown",
   "metadata": {},
   "source": [
    "## Links"
   ]
  },
  {
   "cell_type": "code",
   "execution_count": 2,
   "metadata": {},
   "outputs": [],
   "source": [
    "links = pd.DataFrame(read.read_json('req-links', 'labelled'))\n",
    "courses = pd.DataFrame(read.read_json_processed('courses'))\n",
    "courses_text = pd.DataFrame(read.read_json_processed('courses-text')).T"
   ]
  },
  {
   "cell_type": "code",
   "execution_count": 3,
   "metadata": {},
   "outputs": [
    {
     "name": "stdout",
     "output_type": "stream",
     "text": [
      "Courses in labelled links data that are currently not posted on edu.epfl.ch:\n",
      "\n",
      "['ar-125' 'ar-126' 'ar-401-b' 'bio-376' 'bioeng-437' 'ch-310' 'ch-314'\n",
      " 'civil-223' 'cs-211' 'cs-321' 'ee-100-b' 'ee-102-b' 'ee-432' 'env-241'\n",
      " 'hum-442' 'hum-498-a' 'hum-498-b' 'hum-499-a' 'math-120' 'math-125'\n",
      " 'math-260' 'math-428' 'math-460' 'me-325' 'mse-202' 'ar-526' 'ar-402-b'\n",
      " 'ar-401-c' 'ar-402-c' 'bioeng-433' 'ee-433' 'ee-734' 'hum-449'\n",
      " 'hum-498-c' 'hum-499-b' 'math-461' 'math-464' 'math-475' 'math-610'\n",
      " 'math-465' 'eng-467' 'mgt-416' 'env-366' 'math-402' 'math-409' 'math-653'\n",
      " 'math-637' 'me-432' 'me-473' 'micro-450' 'ee-461' 'bio-603-ms' 'ee-516'\n",
      " 'ch-243' 'phys-328' 'phys-811' 'phys-738']\n"
     ]
    }
   ],
   "source": [
    "links_concat = pd.concat([links.source, links.target])\n",
    "\n",
    "print('Courses in labelled links data that are currently not posted on edu.epfl.ch:\\n')\n",
    "print(links_concat[~links_concat.isin(courses.slug)].unique())"
   ]
  },
  {
   "cell_type": "code",
   "execution_count": 4,
   "metadata": {},
   "outputs": [],
   "source": [
    "cols_dependency_info = ['requiredCourses', 'preparationFor', 'recommendedCourses']\n",
    "dep_df = courses_text[cols_dependency_info]\n",
    "# courses_text.drop(cols_dependency_info, axis=1, inplace=True)"
   ]
  },
  {
   "cell_type": "code",
   "execution_count": 5,
   "metadata": {},
   "outputs": [],
   "source": [
    "regex_course_code = re.compile(\"([A-Za-z]{2,6}[-\\s]*\\d{3}(?:[A-Za-z0-9]+)?(?:\\s*\\([A-Za-z0-9]+\\))?)\", flags=re.IGNORECASE)"
   ]
  },
  {
   "cell_type": "code",
   "execution_count": 6,
   "metadata": {},
   "outputs": [],
   "source": [
    "regex_code_parens = re.compile('\\((.+)\\)$')\n",
    "regex_spaces = re.compile('\\s+')\n",
    "regex_letter_followedby_number = re.compile('([a-z])([0-9])', re.IGNORECASE)\n",
    "regex_number_followedby_letter = re.compile('([0-9])([a-z])', re.IGNORECASE)\n",
    "def construct_course_slug(course_code):\n",
    "    slug = regex_code_parens.sub('-\\g<1>', course_code)\n",
    "    slug = regex_spaces.sub('-', slug)\n",
    "    slug = regex_letter_followedby_number.sub('\\g<1>-\\g<2>', slug)\n",
    "    slug = regex_number_followedby_letter.sub('\\g<1>-\\g<2>', slug)\n",
    "    return slug.lower()\n",
    "\n",
    "cols = dep_df.columns"
   ]
  },
  {
   "cell_type": "code",
   "execution_count": 7,
   "metadata": {},
   "outputs": [],
   "source": [
    "def find_course_refs(text):\n",
    "    if text == '':\n",
    "        return []\n",
    "    if type(text) != str:\n",
    "        print(type(text), text, col, col_match)\n",
    "    matches = regex_course_code.findall(text)\n",
    "    matches = [m for m in matches]\n",
    "    return matches\n",
    "    \n",
    "dep_df_match = []\n",
    "for col in cols:\n",
    "    dep_df_match.append(dep_df[col].apply(find_course_refs))"
   ]
  },
  {
   "cell_type": "code",
   "execution_count": 8,
   "metadata": {},
   "outputs": [],
   "source": [
    "dep_df_match  = pd.DataFrame(dep_df_match).T"
   ]
  },
  {
   "cell_type": "code",
   "execution_count": 9,
   "metadata": {},
   "outputs": [],
   "source": [
    "ids = links.id.values\n",
    "slugs = courses.slug.values\n",
    "\n",
    "col = 'requiredCourses'\n",
    "ser = dep_df_match[col]\n",
    "\n",
    "for target, sources in ser.iteritems():\n",
    "    if len(sources) > 0:\n",
    "        # Only keep unlabelled sources\n",
    "        filtered = [source for source in sources if f'{source}-->{target}' not in ids]\n",
    "        ser.loc[target] = filtered"
   ]
  },
  {
   "cell_type": "code",
   "execution_count": 10,
   "metadata": {},
   "outputs": [],
   "source": [
    "candidates = ser[ser.apply(lambda v: len(v) > 0)]"
   ]
  },
  {
   "cell_type": "code",
   "execution_count": 11,
   "metadata": {},
   "outputs": [],
   "source": [
    "def filter_candidates(v):\n",
    "    return [d for d in v if d in slugs]\n",
    "candidates = candidates.apply(filter_candidates)"
   ]
  },
  {
   "cell_type": "code",
   "execution_count": 12,
   "metadata": {},
   "outputs": [],
   "source": [
    "for k, v in candidates.iteritems():\n",
    "    for slug in v:\n",
    "        if slug != k:        \n",
    "            links = links.append({\n",
    "                'source': slug,\n",
    "                'target': k,\n",
    "                'id': f'{slug}--{k}'\n",
    "            }, ignore_index= True)"
   ]
  },
  {
   "cell_type": "code",
   "execution_count": 76,
   "metadata": {},
   "outputs": [],
   "source": [
    "links.to_json('./data/labelled/req-links.json', orient='records')"
   ]
  }
 ],
 "metadata": {
  "kernelspec": {
   "display_name": "coursebook-env",
   "language": "python",
   "name": "coursebook-env"
  },
  "language_info": {
   "codemirror_mode": {
    "name": "ipython",
    "version": 3
   },
   "file_extension": ".py",
   "mimetype": "text/x-python",
   "name": "python",
   "nbconvert_exporter": "python",
   "pygments_lexer": "ipython3",
   "version": "3.9.1"
  }
 },
 "nbformat": 4,
 "nbformat_minor": 4
}