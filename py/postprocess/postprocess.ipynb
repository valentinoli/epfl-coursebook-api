{
 "cells": [
  {
   "cell_type": "code",
   "execution_count": 1,
   "metadata": {},
   "outputs": [],
   "source": [
    "import pandas as pd\n",
    "from utils import read, write"
   ]
  },
  {
   "cell_type": "code",
   "execution_count": 2,
   "metadata": {},
   "outputs": [],
   "source": [
    "programs = read.read_json_raw('programs')\n",
    "courses_studyplan = read.read_json_raw('courses-studyplan')\n",
    "courses_coursebook = read.read_json_raw('courses-coursebook')"
   ]
  },
  {
   "cell_type": "markdown",
   "metadata": {},
   "source": [
    "## Process `courses_studyplan`\n",
    "---"
   ]
  },
  {
   "cell_type": "code",
   "execution_count": 3,
   "metadata": {},
   "outputs": [
    {
     "output_type": "stream",
     "name": "stdout",
     "text": [
      "columns in courses_sp:\n Index(['code', 'name', 'sourceSlug', 'remark', 'section', 'language',\n       'lecturers', 'examForm', 'credits', 'specializations'],\n      dtype='object')\nNumber of courses in courses_sp: 1840\n"
     ]
    }
   ],
   "source": [
    "courses_sp = pd.DataFrame.from_records(courses_studyplan, index='slug')\n",
    "print('columns in courses_sp:\\n', courses_sp.columns)\n",
    "print(f'Number of courses in courses_sp: {courses_sp.index.nunique()}')"
   ]
  },
  {
   "cell_type": "code",
   "execution_count": 4,
   "metadata": {},
   "outputs": [],
   "source": [
    "# We want to deal with specializations column separately\n",
    "courses_specializations = courses_sp.pop('specializations')\n",
    "\n",
    "# Merge specializations\n",
    "def merge_dicts(series):\n",
    "    return {k:v for d in series for k,v in d.items()}\n",
    "\n",
    "courses_specializations = (\n",
    "    courses_specializations.groupby('slug')\n",
    "    .aggregate(merge_dicts)\n",
    ")\n",
    "\n",
    "# Commonly, a single course has multiple coursebook source slugs.\n",
    "# The pages that each points to might differ.\n",
    "# So we will deal with this column separately.\n",
    "courses_sourceslugs = courses_sp.pop('sourceSlug')\n",
    "courses_sourceslugs = (\n",
    "    courses_sourceslugs.groupby('slug')\n",
    "    .apply(lambda series: [] if series[0] == None else sorted(set(series)))\n",
    ")"
   ]
  },
  {
   "cell_type": "code",
   "execution_count": 5,
   "metadata": {},
   "outputs": [
    {
     "output_type": "stream",
     "name": "stdout",
     "text": [
      "          remark\nslug            \nche-803        2\ncom-503        2\ncs-448         2\ncs-596         2\nee-492-d       2\nfin-406        2\nmath-318       2\nmgt-431        2\nmgt-555        2\n"
     ]
    }
   ],
   "source": [
    "def get_duplicates(df):    \n",
    "    nunique = df.groupby(df.index).nunique(dropna=False)\n",
    "\n",
    "    # Here we compute the number of different values for each column per course\n",
    "    # and only keep those courses where at least one column has different values\n",
    "    duplicates = nunique.loc[(nunique > 1).any(axis=1)]\n",
    "    duplicates = duplicates[duplicates.columns[duplicates.gt(1).any()]]\n",
    "    return duplicates\n",
    "\n",
    "\n",
    "# Convert list or dict columns to str to avoid error when calling .nunique()\n",
    "# TypeError: unhashable type: 'list' (or 'dict')\n",
    "courses_sp = courses_sp.astype({ 'lecturers': str })\n",
    "\n",
    "dups = get_duplicates(courses_sp)\n",
    "print(dups)"
   ]
  },
  {
   "cell_type": "code",
   "execution_count": 6,
   "metadata": {},
   "outputs": [],
   "source": [
    "# courses_sp.loc['bioeng-448', 'remark'] = ''\n",
    "# courses_sp.loc['bioeng-448', 'lecturers'] = courses_sp.loc['bioeng-448', 'lecturers'][1]\n",
    "courses_sp.loc['che-803', 'remark'] = courses_sp.loc['che-803', 'remark'][0]\n",
    "courses_sp.loc['com-503', 'remark'] = courses_sp.loc['com-503', 'remark'][0]\n",
    "courses_sp.loc['com-506', 'examForm'] = courses_sp.loc['com-506', 'examForm'][0]\n",
    "courses_sp.loc['cs-448', 'remark'] = courses_sp.loc['cs-448', 'remark'][0]\n",
    "courses_sp.loc['cs-596', 'remark'] = courses_sp.loc['cs-596', 'remark'][0]\n",
    "courses_sp.loc['ee-492-d', 'remark'] = 'Only from second semester (Electrical and Electronics Engineering, Master)'\n",
    "courses_sp.loc['eng-466', 'examForm'] = courses_sp.loc['eng-466', 'examForm'][0]\n",
    "courses_sp.loc['fin-406', 'remark'] = courses_sp.loc['cs-524', 'remark'][1]\n",
    "courses_sp.loc['math-318', 'remark'] = courses_sp.loc['math-318', 'remark'][1]\n",
    "# me-411: probably 5 credits and not 4? Note different source slugs.\n",
    "courses_sp.loc['me-411', 'credits'] = courses_sp.loc['me-411', 'credits'][0]\n",
    "# courses_sp.loc['me-418', 'remark'] = courses_sp.loc['me-418', 'remark'][1]\n",
    "courses_sp.loc['mgt-431', 'remark'] = courses_sp.loc['mgt-431', 'remark'][2]\n",
    "courses_sp.loc['mgt-555', 'remark'] = 'Can be taken instead of Research Project in Materials I (Material Science and Engineering, Master)'\n",
    "# courses_sp.loc['micro-723', 'remark'] = ''"
   ]
  },
  {
   "cell_type": "code",
   "execution_count": 7,
   "metadata": {},
   "outputs": [],
   "source": [
    "dups = get_duplicates(courses_sp)\n",
    "if len(dups) > 0:\n",
    "    print('Unhandled duplicates (studyplan):\\n', dups)\n",
    "    print(courses_sp.loc[dups.index])\n",
    "assert dups.size == 0"
   ]
  },
  {
   "cell_type": "code",
   "execution_count": 8,
   "metadata": {},
   "outputs": [],
   "source": [
    "# Strip whitespace\n",
    "def df_strip(df):\n",
    "    return df.applymap(lambda v: v.strip().replace('\\xa0', ' ') if type(v) == str else v)\n",
    "\n",
    "courses_sp = df_strip(courses_sp)\n",
    "\n",
    "# Remove duplicates\n",
    "courses_sp.drop_duplicates(subset='code', inplace=True)"
   ]
  },
  {
   "cell_type": "code",
   "execution_count": 9,
   "metadata": {},
   "outputs": [],
   "source": [
    "courses_sp['sourceSlug'] = courses_sourceslugs"
   ]
  },
  {
   "cell_type": "markdown",
   "metadata": {},
   "source": [
    "## Process `courses_coursebook`\n",
    "---"
   ]
  },
  {
   "cell_type": "code",
   "execution_count": 10,
   "metadata": {},
   "outputs": [],
   "source": [
    "courses_cb = pd.DataFrame.from_records(courses_coursebook, index='slug')"
   ]
  },
  {
   "cell_type": "code",
   "execution_count": 11,
   "metadata": {},
   "outputs": [
    {
     "output_type": "stream",
     "name": "stdout",
     "text": [
      "columns in courses_cb:\n Index(['semester', 'examForm', 'coefficient', 'subjectExamined', 'lecture',\n       'exercises', 'programs', 'lecturers', 'language', 'withdrawal',\n       'remark', 'summary', 'content', 'keywords', 'requiredCourses',\n       'recommendedCourses', 'priorConcepts', 'preparationFor', 'project',\n       'numberOfPlaces', 'practicalWork', 'credits', 'labs'],\n      dtype='object')\nNumber of courses in courses_sp: 1829\n"
     ]
    }
   ],
   "source": [
    "print('columns in courses_cb:\\n', courses_cb.columns)\n",
    "print(f'Number of courses in courses_sp: {courses_cb.index.nunique()}')"
   ]
  },
  {
   "cell_type": "code",
   "execution_count": 12,
   "metadata": {},
   "outputs": [],
   "source": [
    "# Format workload columns\n",
    "def format_workload_col(el):\n",
    "    if el.startswith('0 hour(s)'):\n",
    "        return ''\n",
    "    if el.startswith('1 hour(s)'):\n",
    "        return el.replace('hour(s)', 'hour')\n",
    "    return el.replace('hour(s)', 'hours')\n",
    "\n",
    "workload_cols = ['labs', 'lecture', 'project', 'practicalWork', 'exercises']\n",
    "courses_cb[workload_cols] = (\n",
    "    courses_cb[workload_cols].fillna('')\n",
    "    .apply(lambda s: s.str.lower())\n",
    "    .applymap(format_workload_col)\n",
    ")"
   ]
  },
  {
   "cell_type": "code",
   "execution_count": 13,
   "metadata": {},
   "outputs": [],
   "source": [
    "# Interpret no semester info as the course is taught in any semester\n",
    "courses_cb.loc[courses_cb.semester == '', 'semester'] = 'Any'"
   ]
  },
  {
   "cell_type": "markdown",
   "metadata": {},
   "source": [
    "The columns `coefficient` and `credits` should be merged."
   ]
  },
  {
   "cell_type": "code",
   "execution_count": 14,
   "metadata": {},
   "outputs": [],
   "source": [
    "assert not (courses_cb.credits == courses_cb.coefficient).any()"
   ]
  },
  {
   "cell_type": "markdown",
   "metadata": {},
   "source": [
    "No rows should have both `credits` and `coefficient` column. Some rows have neither column specified.\n",
    "\n",
    "Let's first merge the columns and then manually fill in the gaps if possible."
   ]
  },
  {
   "cell_type": "code",
   "execution_count": 15,
   "metadata": {},
   "outputs": [],
   "source": [
    "courses_cb.credits.fillna(courses_cb.coefficient, inplace=True)\n",
    "courses_cb.drop('coefficient', axis=1, inplace=True)"
   ]
  },
  {
   "cell_type": "markdown",
   "metadata": {},
   "source": [
    "Let's now fill in the gaps"
   ]
  },
  {
   "cell_type": "code",
   "execution_count": 16,
   "metadata": {},
   "outputs": [
    {
     "output_type": "stream",
     "name": "stdout",
     "text": [
      "Courses with no credits info (imputed with 0):\nIndex(['eng-274', 'pens-200', 'phys-300-a'], dtype='object', name='slug')\n"
     ]
    }
   ],
   "source": [
    "print('Courses with no credits info (imputed with 0):')\n",
    "print(courses_cb[courses_cb.credits.isna()].index)"
   ]
  },
  {
   "cell_type": "markdown",
   "metadata": {},
   "source": [
    "Notes:\n",
    "* ENG-274 is without credits\n",
    "* PENS-200 Ground control in Swiss law, credits are included in the ENAC week\n",
    "* PHYS-300(a) is also without credits"
   ]
  },
  {
   "cell_type": "code",
   "execution_count": 17,
   "metadata": {},
   "outputs": [],
   "source": [
    "courses_cb.fillna(value={'credits': '0'}, inplace=True)\n",
    "assert courses_cb.credits.notna().all()"
   ]
  },
  {
   "cell_type": "code",
   "execution_count": 18,
   "metadata": {},
   "outputs": [
    {
     "output_type": "stream",
     "name": "stdout",
     "text": [
      "           semester  lecture  lecturers  practicalWork\nslug                                                  \nbio-482           1        1          2              1\nbio-502           2        1          1              1\nch-443            2        1          1              1\nch-444            2        1          1              1\ndh-500            2        1          1              1\nee-556            1        2          1              1\nfin-401           1        1          1              2\nmicro-568         1        1          2              1\nmicro-723         2        1          1              1\n"
     ]
    }
   ],
   "source": [
    "# Treat programs column separately\n",
    "courses_programs = courses_cb.pop('programs')\n",
    "courses_cb = courses_cb.astype({ 'lecturers': str })\n",
    "dups = get_duplicates(courses_cb)\n",
    "print(dups)"
   ]
  },
  {
   "cell_type": "code",
   "execution_count": 23,
   "metadata": {},
   "outputs": [],
   "source": [
    "courses_cb.loc['bio-482', 'lecturers'] = courses_cb.loc['bio-482'].lecturers[0]\n",
    "courses_cb.loc['bio-502', 'semester'] = courses_cb.loc['bio-502'].semester[0]\n",
    "# courses_cb.loc['bioeng-448', 'lecturers'] = courses_cb.loc['bioeng-448'].lecturers[1]\n",
    "courses_cb.loc['ch-443', 'semester'] = courses_cb.loc['ch-443'].semester[0]\n",
    "courses_cb.loc['ch-444', 'semester'] = courses_cb.loc['ch-444'].semester[0]\n",
    "# courses_cb.loc['cs-433', 'lecturers'] = courses_cb.loc['cs-433'].lecturers[0]\n",
    "# courses_cb.loc['com-506', 'examForm'] = courses_cb.loc['com-506'].examForm[0]\n",
    "courses_cb.loc['dh-500', 'semester'] = courses_cb.loc['dh-500'].semester[0]\n",
    "courses_cb.loc['ee-556', 'lecture'] = courses_cb.loc['ee-556'].lecture[0]\n",
    "# courses_cb.loc['eng-466', 'examForm'] = courses_cb.loc['eng-466'].examForm[0]\n",
    "courses_cb.loc['fin-401', 'practicalWork'] = courses_cb.loc['fin-401'].practicalWork[0]\n",
    "# courses_cb.loc['me-411', 'practicalWork'] = courses_cb.loc['me-411'].practicalWork[0]\n",
    "# courses_cb.loc['me-411', 'credits'] = courses_cb.loc['me-411'].credits[0]\n",
    "courses_cb.loc['micro-568', 'lecturers'] = courses_cb.loc['micro-568'].lecturers[0]\n",
    "courses_cb.loc['micro-723', 'semester'] = courses_cb.loc['micro-723'].semester[0]"
   ]
  },
  {
   "cell_type": "code",
   "execution_count": 25,
   "metadata": {},
   "outputs": [],
   "source": [
    "dups = get_duplicates(courses_cb)\n",
    "if len(dups) > 0:\n",
    "    print('Unhandled duplicates (coursebook):\\n', dups)\n",
    "    print(courses_cb.loc[dups.index])\n",
    "assert dups.size == 0\n",
    "\n",
    "courses_cb = df_strip(courses_cb)\n",
    "courses_cb.drop_duplicates(inplace=True)"
   ]
  },
  {
   "cell_type": "code",
   "execution_count": 26,
   "metadata": {},
   "outputs": [],
   "source": [
    "# merge programs fields for each course\n",
    "# first explode lists and transform to dataframe\n",
    "# with columns programSourceId and semesterNumbers\n",
    "programs_exploded = courses_programs.explode()\n",
    "programs_df = pd.json_normalize(programs_exploded).set_index(programs_exploded.index)"
   ]
  },
  {
   "cell_type": "code",
   "execution_count": 27,
   "metadata": {},
   "outputs": [],
   "source": [
    "programs_map = {\n",
    "    program['sourceId']: {\n",
    "        'levelSlug': level['slug'],\n",
    "        'levelTitle': level['title'],\n",
    "        'programSlug': program['slug'],\n",
    "        'programTitle': program['title']\n",
    "    }\n",
    "    for level in programs\n",
    "    for program in level['programs']\n",
    "}"
   ]
  },
  {
   "cell_type": "code",
   "execution_count": 28,
   "metadata": {},
   "outputs": [],
   "source": [
    "# Retain only supported program ids\n",
    "programs_df = programs_df[programs_df.programSourceId.isin(programs_map)]\n",
    "\n",
    "# Map each source id to level and program details dict\n",
    "programs_details = programs_df.programSourceId.apply(lambda v: programs_map[v])\n",
    "programs_details = pd.json_normalize(programs_details).set_index(programs_details.index)\n",
    "\n",
    "# Concatenate resulting DF with semesterNumbers column\n",
    "programs_df = pd.concat([programs_details, programs_df.semesterNumbers], axis=1).astype({ 'semesterNumbers': str })"
   ]
  },
  {
   "cell_type": "code",
   "execution_count": 29,
   "metadata": {},
   "outputs": [
    {
     "output_type": "stream",
     "name": "stdout",
     "text": [
      "                                    semesterNumbers\n",
      "(cs-596, master, computer-science)                2\n",
      "(cs-596, master, cybersecurity)                   2\n",
      "<ipython-input-29-1dfef9affdcd>:6: PerformanceWarning: indexing past lexsort depth may impact performance.\n",
      "  programs_df.loc[('cs-596', 'master', 'computer-science'), 'semesterNumbers'] = programs_df.loc[('cs-596', 'master', 'computer-science')].semesterNumbers[0]\n",
      "c:\\Users\\valentin\\coursenet-api\\py\\env\\lib\\site-packages\\IPython\\core\\interactiveshell.py:2894: PerformanceWarning: indexing past lexsort depth may impact performance.\n",
      "  result = self._run_cell(\n",
      "c:\\Users\\valentin\\coursenet-api\\py\\env\\lib\\site-packages\\IPython\\core\\async_helpers.py:68: PerformanceWarning: indexing past lexsort depth may impact performance.\n",
      "  coro.send(None)\n",
      "<ipython-input-29-1dfef9affdcd>:7: PerformanceWarning: indexing past lexsort depth may impact performance.\n",
      "  programs_df.loc[('cs-596', 'master', 'cybersecurity'), 'semesterNumbers'] = programs_df.loc[('cs-596', 'master', 'cybersecurity')].semesterNumbers[0]\n"
     ]
    }
   ],
   "source": [
    "# duplicate sanity check\n",
    "programs_df = programs_df.reset_index().set_index(['slug', 'levelSlug', 'programSlug'])\n",
    "dups = get_duplicates(programs_df)\n",
    "print(dups)\n",
    "\n",
    "programs_df.loc[('cs-596', 'master', 'computer-science'), 'semesterNumbers'] = programs_df.loc[('cs-596', 'master', 'computer-science')].semesterNumbers[0]\n",
    "programs_df.loc[('cs-596', 'master', 'cybersecurity'), 'semesterNumbers'] = programs_df.loc[('cs-596', 'master', 'cybersecurity')].semesterNumbers[0]\n",
    "\n",
    "dups = get_duplicates(programs_df)\n",
    "if len(dups) > 0:\n",
    "    print('Unhandled duplicates (programs):\\n', dups)\n",
    "    print(programs_df.loc[dups.index])\n",
    "assert dups.size == 0"
   ]
  },
  {
   "cell_type": "code",
   "execution_count": 30,
   "metadata": {},
   "outputs": [],
   "source": [
    "programs_df = programs_df.reset_index().drop_duplicates()\n",
    "programs_df['semesterNumbers'] = programs_df.semesterNumbers.apply(eval)"
   ]
  },
  {
   "cell_type": "code",
   "execution_count": 31,
   "metadata": {},
   "outputs": [],
   "source": [
    "def key_func(series):\n",
    "    if series.name == 'levelSlug':\n",
    "        return series.replace({\n",
    "            'propedeutics': 0,\n",
    "            'bachelor': 1,\n",
    "            'master': 2,\n",
    "            'minor': 3,\n",
    "            'doctoral-school': 4\n",
    "        })\n",
    "    return series\n",
    "\n",
    "programs_df = programs_df.sort_values(by=['slug', 'levelSlug', 'programSlug'], key=key_func)"
   ]
  },
  {
   "cell_type": "code",
   "execution_count": 32,
   "metadata": {},
   "outputs": [],
   "source": [
    "def create_program_column(r):\n",
    "    program = {\n",
    "        'title': r.programTitle,\n",
    "        'slug': r.programSlug,\n",
    "        'semesterNumbers': r.semesterNumbers\n",
    "    }\n",
    "\n",
    "    if r.levelSlug == 'master':\n",
    "        program['specializations'] = (\n",
    "            courses_specializations.loc[r.slug][r.programSlug]\n",
    "            if r.programSlug in courses_specializations.loc[r.slug]\n",
    "            else []\n",
    "        )\n",
    "    return program\n",
    "\n",
    "programs_df['program'] = programs_df.apply(create_program_column, axis=1)"
   ]
  },
  {
   "cell_type": "code",
   "execution_count": 33,
   "metadata": {},
   "outputs": [],
   "source": [
    "programs_df.drop(['programTitle', 'programSlug', 'semesterNumbers'], axis=1, inplace=True)"
   ]
  },
  {
   "cell_type": "code",
   "execution_count": 34,
   "metadata": {},
   "outputs": [],
   "source": [
    "def agg_programs(df):\n",
    "    first = df.iloc[0]\n",
    "    return {\n",
    "        'title': first.levelTitle,\n",
    "        'slug': first.levelSlug,\n",
    "        'programs': list(df.program)\n",
    "    }\n",
    "\n",
    "programs_df = programs_df.groupby(['slug', 'levelSlug'], sort=False).apply(agg_programs).droplevel('levelSlug')\n",
    "programs_df = programs_df.groupby('slug', sort=False).apply(lambda ser: list(ser)).rename('levels')"
   ]
  },
  {
   "cell_type": "code",
   "execution_count": 35,
   "metadata": {},
   "outputs": [],
   "source": [
    "courses_cb['levels'] = programs_df.astype(str)"
   ]
  },
  {
   "cell_type": "code",
   "execution_count": 36,
   "metadata": {},
   "outputs": [
    {
     "output_type": "stream",
     "name": "stdout",
     "text": [
      "Courses without linked coursebook page:\n slug\ncivil-464                      Composites design and innovation\nee-599-d       Master project in Energy, Science and Technology\nmgt-431                       Information: strategy & economics\nch-709        Frontiers in Organic Synthesis. Part III Stere...\nch-710        Gene transfer and recombinant protein expressi...\nche-608-1     Highlights in Energy Research : Sustainable en...\nche-608-2     Highlights in Energy Research : Sustainable en...\nch-610        Inorganic chemistry \"Fundamentals and properties\"\nch-611             Inorganic chemistry \"Techniques and methods\"\neng-628              Academic Writing for Doctoral Students (2)\nbioeng-803    Summer School on Neurophysiology for Neural an...\nName: name, dtype: object\n"
     ]
    }
   ],
   "source": [
    "courses_nolink = courses_sp[~courses_sp.index.isin(courses_cb.index)]\n",
    "print('Courses without linked coursebook page:\\n', courses_nolink.name)\n",
    "\n",
    "# Manually fill in semester info for these courses later"
   ]
  },
  {
   "cell_type": "code",
   "execution_count": 37,
   "metadata": {},
   "outputs": [],
   "source": [
    "# Ensure indexes of dataframes are compatible:\n",
    "courses_cb = courses_cb.reindex(index=courses_sp.index)\n",
    "\n",
    "# Fill NaN with empty list string (later converted to list)\n",
    "courses_cb.loc[courses_cb.levels.isna(), 'levels'] = '[]'"
   ]
  },
  {
   "cell_type": "markdown",
   "metadata": {},
   "source": [
    "## Merge `courses_sp` and `courses_cb`\n",
    "***"
   ]
  },
  {
   "cell_type": "code",
   "execution_count": 38,
   "metadata": {},
   "outputs": [],
   "source": [
    "common_cols = courses_cb.columns.intersection(courses_sp.columns)\n",
    "for col in common_cols:\n",
    "    idx = courses_cb[col].isna()\n",
    "    # Replace NaN in courses_cb with values in courses_sp\n",
    "    courses_cb.loc[idx, col] = courses_sp.loc[idx, col]"
   ]
  },
  {
   "cell_type": "code",
   "execution_count": 39,
   "metadata": {},
   "outputs": [],
   "source": [
    "# Lecturers in one dataframe contains only last names\n",
    "# so we need to compare SCIPER numbers to detect discrepancies\n",
    "lecturers = (\n",
    "    pd.concat(\n",
    "        [courses_sp.lecturers, courses_cb.lecturers],\n",
    "        keys=['l_studyplan', 'l_coursebook'],\n",
    "        axis=1\n",
    "    )\n",
    "    # str --> list\n",
    "    .applymap(eval)\n",
    "    # remove \"Various/Invited lecturers\", sciper 126096 is also used for that\n",
    "    # note: remove this line later, since scraping code will take care of it\n",
    "    .applymap(lambda lec: list(filter(lambda l: l['sciper'] and l['sciper'] != '126096', lec)))\n",
    ")\n",
    "\n",
    "lecturers_sciper = (\n",
    "    lecturers\n",
    "    .applymap(lambda val: sorted(v['sciper'] for v in val))\n",
    "    # convert list back to string since we want to compare columns\n",
    "    .astype(str)\n",
    ")"
   ]
  },
  {
   "cell_type": "code",
   "execution_count": 40,
   "metadata": {},
   "outputs": [
    {
     "output_type": "stream",
     "name": "stdout",
     "text": [
      "Inconsistent lecturers info in studyplans vs coursebooks\n                                                  l_studyplan  \\\nslug                                                            \nmath-260-a        [{'name': 'Viazovska', 'sciper': '280037'}]   \nmath-260-b  [{'name': 'De Courcy-Ireland', 'sciper': '2971...   \nbioeng-511                                                 []   \nbioeng-512                                                 []   \nbioeng-514                                                 []   \nbioeng-516                                                 []   \nbioeng-517                                                 []   \nbio-482     [{'name': 'Crochet', 'sciper': '165867'}, {'na...   \nbio-467     [{'name': 'Altug', 'sciper': '231181'}, {'name...   \nbio-468     [{'name': 'Barth', 'sciper': '287093'}, {'name...   \n\n                                                 l_coursebook  \nslug                                                           \nmath-260-a  [{'name': 'De Courcy-Ireland Matthew', 'sciper...  \nmath-260-b  [{'name': 'De Courcy-Ireland Matthew', 'sciper...  \nbioeng-511  [{'name': 'Doenlen Raphaël', 'sciper': '188367...  \nbioeng-512  [{'name': 'Chambon Marc', 'sciper': '112822'},...  \nbioeng-514    [{'name': 'Garcia Miguel', 'sciper': '184841'}]  \nbioeng-516  [{'name': 'Sordet-Dessimoz Jessica', 'sciper':...  \nbioeng-517  [{'name': 'Chiappe Diego', 'sciper': '170330'}...  \nbio-482     [{'name': 'Crochet Sylvain', 'sciper': '165867...  \nbio-467     [{'name': 'Altug Hatice', 'sciper': '231181'},...  \nbio-468     [{'name': 'Barth Patrick Daniel', 'sciper': '2...  \n"
     ]
    }
   ],
   "source": [
    "lecturers_inconsistent = lecturers[lecturers_sciper.l_studyplan != lecturers_sciper.l_coursebook]\n",
    "print('Inconsistent lecturers info in studyplans vs coursebooks')\n",
    "print(lecturers_inconsistent)"
   ]
  },
  {
   "cell_type": "code",
   "execution_count": 41,
   "metadata": {},
   "outputs": [],
   "source": [
    "# Lecturers info in coursebooks seem to be more reliable\n",
    "# than info in studyplans, so we rely on the coursebooks\n",
    "# Note! lecturers.l_coursebook column has already been cast to list\n",
    "courses_sp.lecturers = lecturers.l_coursebook\n",
    "courses_cb.drop('lecturers', axis=1, inplace=True)"
   ]
  },
  {
   "cell_type": "code",
   "execution_count": 42,
   "metadata": {},
   "outputs": [],
   "source": [
    "common_cols = common_cols.drop('lecturers')"
   ]
  },
  {
   "cell_type": "code",
   "execution_count": 43,
   "metadata": {},
   "outputs": [],
   "source": [
    "diffs = courses_sp[common_cols].ne(courses_cb[common_cols])\n",
    "# drop columns with no differences\n",
    "cols_diff = common_cols[diffs.any()]\n",
    "cols_nodiff = common_cols.drop(cols_diff)\n",
    "# drop from either dataframe\n",
    "courses_cb.drop(cols_nodiff, axis=1, inplace=True)"
   ]
  },
  {
   "cell_type": "code",
   "execution_count": 44,
   "metadata": {},
   "outputs": [
    {
     "output_type": "stream",
     "name": "stdout",
     "text": [
      "          examForm_studyplan  examForm_coursebook\nslug                                             \nar-101                        During the semester\nar-201-a                      During the semester\nar-201-n                      During the semester\nar-201-g                      During the semester\nar-201-m                      During the semester\nar-201-o                      During the semester\nbio-378                                      Oral\nbio-203                       During the semester\nmicro-313                                 Written\nphys-203                      During the semester\nphys-204                      During the semester\nch-633          Oral,Written                 Oral\n                                             remark_studyplan  \\\nslug                                                            \nmath-251-b                               Pas donné en 2020-21   \nar-485                                   Pas donné en 2020-21   \nar-453      Cours biennal, donné une année sur deux (pas d...   \nar-497      Cours donné les années impaires (pas donné en ...   \nar-535                                   Pas donné en 2020-21   \nar-487                                   Pas donné en 2020-21   \ncivil-450                                                       \ncom-597     L'étudiant doit effectuer un stage de 8 semain...   \nmgt-555     Can be taken instead of Research Project in Ma...   \nee-492-d    Only from second semester (Electrical and Elec...   \nar-403                                   Pas donné en 2021-22   \nfin-406                                  Pas donné en 2020-21   \nphys-597    Duration of a internal specialisation semester...   \nche-604                              Next time: December 2021   \nche-609-3                                           Postponed   \nche-609-2                                           Postponed   \nche-609-1                                           Postponed   \nch-707                                 Next time: Spring 2023   \nche-606-1                                 Next time Fall 2022   \nche-606-2                              Next time: Spring 2023   \nch-605                                 Next time: Spring 2022   \nche-601-2                     Next time: Spring 2021 via Zoom   \nch-604                                  Next time Spring 2022   \nch-632                                   Next time: Fall 2021   \neng-626     Next time: 2021-2022 // Registration via: \\nht...   \nmgt-644-b                                            CANCELED   \nphys-602                                             CANCELED   \nphys-605                       Postponed until further notice   \n\n                                            remark_coursebook  \nslug                                                           \nmath-251-b                                                     \nar-485                                                         \nar-453      Cours biennal, donné une année sur deux, donné...  \nar-497                                                         \nar-535                                                         \nar-487                                                         \ncivil-450                                Pas donné en 2019-20  \ncom-597     L'étudiant doit effectuer un stage de 8 semain...  \nmgt-555                                                        \nee-492-d                                                       \nar-403                                   Pas donné en 2019-20  \nfin-406     For sem. MA1. Special schedule: see the IF web...  \nphys-597    Durée du travail de spécialisation interne : u...  \nche-604                              Next time: December 2019  \nche-609-3   Starting May 18-22 2020\\nThis course as two ot...  \nche-609-2   Starting May 11-15 2020\\nThis course as two ot...  \nche-609-1   Next time May 4-8 2020\\nThis course as three m...  \nch-707                                 Next time: Spring 2020  \nche-606-1                 Every 3 years. Next time: Fall 2019  \nche-606-2               Every 3 years. Next time: Spring 2020  \nch-605                             Virtual course Spring 2020  \nche-601-2                              Next time: Spring 2021  \nch-604                       Spring 2020 from: 2.02 to: 16.02  \nch-632                                 Next time: Winter 2020  \neng-626     Next time: 30 and 1 October, 1 November 2019 /...  \nmgt-644-b                                                      \nphys-602             Next time: Spring 2021 - To be confirmed  \nphys-605                   To be scheduled after Corona virus  \n           credits_studyplan credits_coursebook\nslug                                           \nar-101                                       14\nar-201-a                                     20\nar-201-n                                     20\nar-201-g                                     20\nar-201-m                                     20\nar-201-o                                     20\neng-274                                       0\npens-200                                      0\nbio-378                                       6\nbio-203                                       6\nmicro-313                                     7\nphys-300-a                                    0\nphys-203                                      7\nphys-204                                      8\nch-633                     4                  2\n"
     ]
    }
   ],
   "source": [
    "with pd.option_context('display.max_rows', None):\n",
    "    for col in cols_diff:\n",
    "        df = pd.concat([\n",
    "            courses_sp[col].loc[diffs[col]],\n",
    "            courses_cb[col].loc[diffs[col]]\n",
    "        ], axis=1, keys=[f'{col}_studyplan', f'{col}_coursebook'])\n",
    "        print(df)"
   ]
  },
  {
   "cell_type": "code",
   "execution_count": 45,
   "metadata": {},
   "outputs": [],
   "source": [
    "# coursebook is more up to date for columns 'credits' and 'examForm'\n",
    "courses_sp.drop(['credits', 'examForm'], axis=1, inplace=True)\n",
    "# studyplan is more up to date for column 'remark'\n",
    "courses_cb.drop('remark', axis=1, inplace=True)"
   ]
  },
  {
   "cell_type": "code",
   "execution_count": 46,
   "metadata": {},
   "outputs": [],
   "source": [
    "courses = pd.concat([courses_sp, courses_cb], axis=1)"
   ]
  },
  {
   "cell_type": "code",
   "execution_count": 47,
   "metadata": {},
   "outputs": [
    {
     "output_type": "stream",
     "name": "stdout",
     "text": [
      "Manually filling in semester info for courses without coursebook link\n['civil-464', 'ee-599-d', 'mgt-431', 'ch-709', 'ch-710', 'che-608-1', 'che-608-2', 'ch-610', 'ch-611', 'eng-628', 'bioeng-803']\n"
     ]
    }
   ],
   "source": [
    "# Manually fill in semester info for courses without coursebook link\n",
    "print('Manually filling in semester info for courses without coursebook link')\n",
    "print(list(courses_nolink.index))"
   ]
  },
  {
   "cell_type": "code",
   "execution_count": 48,
   "metadata": {},
   "outputs": [],
   "source": [
    "spring = 'Spring'\n",
    "fall = 'Fall'\n",
    "Any = 'Any'\n",
    "\n",
    "manual_semester = {\n",
    "    # 'pens-223': spring,\n",
    "    'civil-226': spring,\n",
    "    'math-511': spring,\n",
    "    'civil-464': spring,\n",
    "    'ee-599-d': Any,\n",
    "    'mgt-431': spring,\n",
    "    'ch-709': spring,\n",
    "    'ch-710': Any,  # uncertain\n",
    "    'che-608-1': fall,\n",
    "    'che-608-2': spring,\n",
    "    'ch-610': fall,\n",
    "    'ch-611': fall,\n",
    "    'eng-628': Any,\n",
    "    'bioeng-803': fall,  # summer school (late August)\n",
    "    'phys-635': spring,\n",
    "    # 'phys-642': Any,  # https://edu.epfl.ch/coursebook/en/statistical-physics-for-optimization-learning-PHYS-642\n",
    "    # 'phys-816': spring\n",
    "}\n",
    "\n",
    "for idx, semester in manual_semester.items():\n",
    "    courses.loc[idx, 'semester'] = semester"
   ]
  },
  {
   "cell_type": "code",
   "execution_count": 49,
   "metadata": {},
   "outputs": [
    {
     "output_type": "stream",
     "name": "stdout",
     "text": [
      "Columns not NaN check:\n\ncode          True\nname          True\nsection       True\nlanguage      True\nlecturers     True\nsourceSlug    True\nsemester      True\nexamForm      True\ncredits       True\nlevels        True\ndtype: bool\n"
     ]
    }
   ],
   "source": [
    "# values in these columns should not be NaN\n",
    "cols_notna = ['code', 'name', 'section', 'language', 'lecturers', 'sourceSlug', 'semester', 'examForm', 'credits', 'levels']\n",
    "cols_notna_each = courses[cols_notna].notna().all()\n",
    "print('Columns not NaN check:\\n')\n",
    "print(cols_notna_each)\n",
    "assert cols_notna_each.all()"
   ]
  },
  {
   "cell_type": "code",
   "execution_count": 50,
   "metadata": {},
   "outputs": [],
   "source": [
    "# Fill NaN in other columns with empty string\n",
    "courses.fillna(value='', inplace=True)"
   ]
  },
  {
   "cell_type": "code",
   "execution_count": 51,
   "metadata": {},
   "outputs": [
    {
     "output_type": "stream",
     "name": "stdout",
     "text": [
      "Comparing `subjectExamined` and `name` fields\n\n                                        subjectExamined  \\\nslug                                                      \nar-101                                   Studio BA1,BA2   \nar-102                                   Studio BA1,BA2   \nar-201-a            Studio BA3, BA4 (Bakker & Blanc A.)   \nar-202-a            Studio BA3, BA4 (Bakker & Blanc A.)   \nar-201-n                     Studio BA3, BA4 (Lapierre)   \nar-202-n                     Studio BA3, BA4 (Lapierre)   \nar-201-g                          Studio BA3, BA4 (Rey)   \nar-202-g                          Studio BA3, BA4 (Rey)   \nar-201-m                     Studio BA3, BA4 (Taillieu)   \nar-202-m                     Studio BA3, BA4 (Taillieu)   \nar-201-o                   Studio BA3, BA4 (Verschuere)   \nar-202-o                   Studio BA3, BA4 (Verschuere)   \npens-200                                                  \nbio-378                             Physiology lab I,II   \nbio-379                             Physiology lab I,II   \nbio-203           Integrated labo in Life sciences I,II   \nbio-204           Integrated labo in Life sciences I,II   \nmicro-313   Actuators and Electromagnetic systems I, II   \nmicro-314   Actuators and Electromagnetic systems I, II   \nphys-300-a                                                \nphys-203                     Computational physics I,II   \nphys-210                     Computational physics I,II   \nphys-204                           Physics lab IIa, IIb   \nphys-211                           Physics lab IIa, IIb   \ncivil-464                                                 \nee-599-d                                                  \nmgt-431                                                   \nch-709                                                    \nch-710                                                    \nche-608-1                                                 \nche-608-2                                                 \nch-610                                                    \nch-611                                                    \neng-628                                                   \nbioeng-803                                                \n\n                                                         name  \nslug                                                           \nar-101                                             Studio BA1  \nar-102                                             Studio BA2  \nar-201-a                       Studio BA3 (Bakker & Blanc A.)  \nar-202-a                       Studio BA4 (Bakker & Blanc A.)  \nar-201-n                                Studio BA3 (Lapierre)  \nar-202-n                                Studio BA4 (Lapierre)  \nar-201-g                                     Studio BA3 (Rey)  \nar-202-g                                     Studio BA4 (Rey)  \nar-201-m                                Studio BA3 (Taillieu)  \nar-202-m                                Studio BA4 (Taillieu)  \nar-201-o                              Studio BA3 (Verschuere)  \nar-202-o                              Studio BA4 (Verschuere)  \npens-200                   La maîtrise du sol en droit suisse  \nbio-378                                      Physiology lab I  \nbio-379                                     Physiology lab II  \nbio-203                    Integrated labo in Life sciences I  \nbio-204                   Integrated labo in Life sciences II  \nmicro-313             Actuators and Electromagnetic systems I  \nmicro-314            Actuators and Electromagnetic systems II  \nphys-300-a              Introduction to construction technics  \nphys-203                              Computational physics I  \nphys-210                             Computational physics II  \nphys-204                                      Physics lab IIa  \nphys-211                                      Physics lab IIb  \ncivil-464                    Composites design and innovation  \nee-599-d     Master project in Energy, Science and Technology  \nmgt-431                     Information: strategy & economics  \nch-709      Frontiers in Organic Synthesis. Part III Stere...  \nch-710      Gene transfer and recombinant protein expressi...  \nche-608-1   Highlights in Energy Research : Sustainable en...  \nche-608-2   Highlights in Energy Research : Sustainable en...  \nch-610      Inorganic chemistry \"Fundamentals and properties\"  \nch-611           Inorganic chemistry \"Techniques and methods\"  \neng-628            Academic Writing for Doctoral Students (2)  \nbioeng-803  Summer School on Neurophysiology for Neural an...  \n"
     ]
    }
   ],
   "source": [
    "print('Comparing `subjectExamined` and `name` fields\\n')\n",
    "print(courses[courses.subjectExamined != courses.name][['subjectExamined', 'name']])"
   ]
  },
  {
   "cell_type": "code",
   "execution_count": 52,
   "metadata": {},
   "outputs": [],
   "source": [
    "# Drop subjectExamined field\n",
    "courses.drop('subjectExamined', axis=1, inplace=True)"
   ]
  },
  {
   "cell_type": "code",
   "execution_count": 53,
   "metadata": {},
   "outputs": [],
   "source": [
    "text_cols = ['summary', 'content', 'keywords', 'requiredCourses', 'recommendedCourses', 'priorConcepts', 'preparationFor']\n",
    "courses_text = courses[text_cols]\n",
    "courses.drop(text_cols, axis=1, inplace=True)"
   ]
  },
  {
   "cell_type": "code",
   "execution_count": 54,
   "metadata": {},
   "outputs": [],
   "source": [
    "# str --> list\n",
    "courses[['levels']] = courses[['levels']].applymap(eval)\n",
    "# str --> int\n",
    "courses = courses.astype({\n",
    "    'credits': int\n",
    "})\n"
   ]
  },
  {
   "source": [
    "## Process and filter links\n",
    "---"
   ],
   "cell_type": "markdown",
   "metadata": {}
  },
  {
   "cell_type": "code",
   "execution_count": 55,
   "metadata": {},
   "outputs": [
    {
     "output_type": "stream",
     "name": "stdout",
     "text": [
      "Python object written to c:\\Users\\valentin\\coursenet-api\\py\\data\\processed\\links.json\n"
     ]
    }
   ],
   "source": [
    "links = read.read_json('req-links', 'labelled')\n",
    "\n",
    "# filter out links that reference courses\n",
    "# that are not there any more\n",
    "course_slugs = courses.index.to_list()\n",
    "\n",
    "links = [\n",
    "    l for l in links\n",
    "    if l['source'] in course_slugs and l['target'] in course_slugs\n",
    "]\n",
    "\n",
    "write.write_object('links', links, subdir='processed')"
   ]
  },
  {
   "cell_type": "code",
   "execution_count": 56,
   "metadata": {},
   "outputs": [],
   "source": [
    "courses['requiredCourses'] = [[] for _ in range(len(courses))]\n",
    "courses['dependentCourses'] = [[] for _ in range(len(courses))]\n",
    "\n",
    "# add index as one of the columns\n",
    "courses['slug'] = courses.index\n",
    "\n",
    "cols = ['slug', 'code', 'name']\n",
    "for link in links:\n",
    "    source = courses.loc[link['source']]\n",
    "    target = courses.loc[link['target']]\n",
    "    target.requiredCourses.append(dict(source[cols]))\n",
    "    source.dependentCourses.append(dict(target[cols]))"
   ]
  },
  {
   "cell_type": "code",
   "execution_count": 57,
   "metadata": {},
   "outputs": [
    {
     "output_type": "stream",
     "name": "stdout",
     "text": [
      "Dataframe written to c:\\Users\\valentin\\coursenet-api\\py\\data\\processed\\courses.json\n"
     ]
    }
   ],
   "source": [
    "courses.reset_index(inplace=True, drop=True)\n",
    "write.write_df_processed('courses', courses)"
   ]
  },
  {
   "cell_type": "code",
   "execution_count": 58,
   "metadata": {},
   "outputs": [
    {
     "output_type": "stream",
     "name": "stdout",
     "text": [
      "Dataframe written to c:\\Users\\valentin\\coursenet-api\\py\\data\\processed\\courses-text.json\n"
     ]
    }
   ],
   "source": [
    "write.write_df_processed('courses-text', courses_text, orient='index')"
   ]
  },
  {
   "cell_type": "markdown",
   "metadata": {},
   "source": [
    "## Process `programs` and create `epfl` dict\n",
    "***"
   ]
  },
  {
   "cell_type": "code",
   "execution_count": 59,
   "metadata": {},
   "outputs": [],
   "source": [
    "# add 'courses' property to all levels\n",
    "for level in programs:\n",
    "    # set comprehension\n",
    "    level['courses'] = list({\n",
    "        c\n",
    "        for p in level['programs']\n",
    "        for c in p['courses']\n",
    "    })"
   ]
  },
  {
   "cell_type": "code",
   "execution_count": 60,
   "metadata": {},
   "outputs": [],
   "source": [
    "# add 'courses' property to top level\n",
    "epfl = {\n",
    "    'courses': course_slugs,\n",
    "    'levels': programs\n",
    "}"
   ]
  },
  {
   "cell_type": "code",
   "execution_count": 61,
   "metadata": {},
   "outputs": [
    {
     "output_type": "stream",
     "name": "stdout",
     "text": [
      "Python object written to c:\\Users\\valentin\\coursenet-api\\py\\data\\processed\\epfl.json\n"
     ]
    }
   ],
   "source": [
    "write.write_object('epfl', epfl, subdir='processed')"
   ]
  },
  {
   "cell_type": "code",
   "execution_count": null,
   "metadata": {},
   "outputs": [],
   "source": []
  }
 ],
 "metadata": {
  "kernelspec": {
   "name": "coursenet-env",
   "display_name": "Python 3.9.1 64-bit ('env': venv)"
  },
  "language_info": {
   "codemirror_mode": {
    "name": "ipython",
    "version": 3
   },
   "file_extension": ".py",
   "mimetype": "text/x-python",
   "name": "python",
   "nbconvert_exporter": "python",
   "pygments_lexer": "ipython3",
   "version": "3.9.1"
  }
 },
 "nbformat": 4,
 "nbformat_minor": 4
}