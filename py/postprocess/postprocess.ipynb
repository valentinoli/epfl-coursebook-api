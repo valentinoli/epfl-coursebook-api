{
 "cells": [
  {
   "cell_type": "code",
   "execution_count": 1,
   "metadata": {},
   "outputs": [],
   "source": [
    "import re\n",
    "import pandas as pd\n",
    "from operator import add\n",
    "from utils import read, write"
   ]
  },
  {
   "cell_type": "code",
   "execution_count": 2,
   "metadata": {},
   "outputs": [],
   "source": [
    "programs = read.read_json_raw('programs')\n",
    "courses_studyplan = read.read_json_raw('courses-studyplan')\n",
    "courses_coursebook = read.read_json_raw('courses-coursebook')"
   ]
  },
  {
   "cell_type": "markdown",
   "metadata": {},
   "source": [
    "## Process `courses_studyplan`\n",
    "---"
   ]
  },
  {
   "cell_type": "code",
   "execution_count": 3,
   "metadata": {},
   "outputs": [
    {
     "name": "stdout",
     "output_type": "stream",
     "text": [
      "columns in courses_sp:\n",
      " Index(['code', 'name', 'sourceSlug', 'remark', 'section', 'language',\n",
      "       'lecturers', 'examForm', 'credits', 'specializations'],\n",
      "      dtype='object')\n",
      "Number of courses in courses_sp: 1827\n"
     ]
    }
   ],
   "source": [
    "courses_sp = pd.DataFrame.from_records(courses_studyplan, index='slug')\n",
    "print('columns in courses_sp:\\n', courses_sp.columns)\n",
    "print(f'Number of courses in courses_sp: {courses_sp.index.nunique()}')"
   ]
  },
  {
   "cell_type": "code",
   "execution_count": 4,
   "metadata": {},
   "outputs": [],
   "source": [
    "# We want to deal with specializations column separately\n",
    "courses_specializations = courses_sp.pop('specializations')\n",
    "\n",
    "# Merge specializations\n",
    "def merge_dicts(series):\n",
    "    return {k:v for d in series for k,v in d.items()}\n",
    "\n",
    "courses_specializations = (\n",
    "    courses_specializations.groupby('slug')\n",
    "    .aggregate(merge_dicts)\n",
    ")\n",
    "\n",
    "# Commonly, a single course has multiple coursebook source slugs.\n",
    "# The pages that each points to might differ.\n",
    "# So we will deal with this column separately.\n",
    "courses_sourceslugs = courses_sp.pop('sourceSlug')\n",
    "courses_sourceslugs = (\n",
    "    courses_sourceslugs.groupby('slug')\n",
    "    .apply(lambda series: [] if series[0] == None else sorted(set(series)))\n",
    ")"
   ]
  },
  {
   "cell_type": "code",
   "execution_count": 5,
   "metadata": {},
   "outputs": [
    {
     "name": "stdout",
     "output_type": "stream",
     "text": [
      "            remark  lecturers  credits\n",
      "slug                                  \n",
      "bioeng-448       2          3        1\n",
      "che-803          2          1        1\n",
      "ee-492-d         2          1        1\n",
      "fin-406          2          1        1\n",
      "math-318         2          1        1\n",
      "me-411           1          1        2\n",
      "me-418           2          1        1\n",
      "mgt-555          2          1        1\n",
      "micro-723        2          1        1\n"
     ]
    }
   ],
   "source": [
    "def get_duplicates(df):    \n",
    "    nunique = df.groupby(df.index).nunique(dropna=False)\n",
    "\n",
    "    # Here we compute the number of different values for each column per course\n",
    "    # and only keep those courses where at least one column has different values\n",
    "    duplicates = nunique.loc[(nunique > 1).any(axis=1)]\n",
    "    duplicates = duplicates[duplicates.columns[duplicates.gt(1).any()]]\n",
    "    return duplicates\n",
    "\n",
    "\n",
    "# Convert list or dict columns to str to avoid error when calling .nunique()\n",
    "# TypeError: unhashable type: 'list' (or 'dict')\n",
    "courses_sp = courses_sp.astype({ 'lecturers': str })\n",
    "\n",
    "dups = get_duplicates(courses_sp)\n",
    "print(dups)"
   ]
  },
  {
   "cell_type": "code",
   "execution_count": 6,
   "metadata": {},
   "outputs": [],
   "source": [
    "courses_sp.loc['bioeng-448', 'remark'] = ''\n",
    "courses_sp.loc['bioeng-448', 'lecturers'] = courses_sp.loc['bioeng-448', 'lecturers'][1]\n",
    "courses_sp.loc['che-803', 'remark'] = courses_sp.loc['che-803', 'remark'][0]\n",
    "courses_sp.loc['ee-492-d', 'remark'] = 'Only from second semester (Electrical and Electronics Engineering, Master)'\n",
    "courses_sp.loc['fin-406', 'remark'] = courses_sp.loc['cs-524', 'remark'][1]\n",
    "courses_sp.loc['math-318', 'remark'] = courses_sp.loc['math-318', 'remark'][1]\n",
    "# me-411: probably 5 credits and not 4? Note different source slugs.\n",
    "courses_sp.loc['me-411', 'credits'] = courses_sp.loc['me-411', 'credits'][0]\n",
    "courses_sp.loc['me-418', 'remark'] = courses_sp.loc['me-418', 'remark'][1]\n",
    "courses_sp.loc['mgt-555', 'remark'] = 'Can be taken instead of Research Project in Materials I (Material Science and Engineering, Master)'\n",
    "courses_sp.loc['micro-723', 'remark'] = ''"
   ]
  },
  {
   "cell_type": "code",
   "execution_count": 7,
   "metadata": {},
   "outputs": [],
   "source": [
    "dups = get_duplicates(courses_sp)\n",
    "if len(dups) > 0:\n",
    "    print('Unhandled duplicates (studyplan):\\n', dups)\n",
    "    print(courses_sp.loc[dups.index])\n",
    "assert dups.size == 0"
   ]
  },
  {
   "cell_type": "code",
   "execution_count": 8,
   "metadata": {},
   "outputs": [],
   "source": [
    "# Strip whitespace\n",
    "def df_strip(df):\n",
    "    return df.applymap(lambda v: v.strip().replace('\\xa0', ' ') if type(v) == str else v)\n",
    "\n",
    "courses_sp = df_strip(courses_sp)\n",
    "\n",
    "# Remove duplicates\n",
    "courses_sp.drop_duplicates(subset='code', inplace=True)"
   ]
  },
  {
   "cell_type": "code",
   "execution_count": 9,
   "metadata": {},
   "outputs": [],
   "source": [
    "courses_sp['sourceSlug'] = courses_sourceslugs"
   ]
  },
  {
   "cell_type": "markdown",
   "metadata": {},
   "source": [
    "## Process `courses_coursebook`\n",
    "---"
   ]
  },
  {
   "cell_type": "code",
   "execution_count": 10,
   "metadata": {},
   "outputs": [],
   "source": [
    "courses_cb = pd.DataFrame.from_records(courses_coursebook, index='slug')"
   ]
  },
  {
   "cell_type": "code",
   "execution_count": 11,
   "metadata": {},
   "outputs": [
    {
     "name": "stdout",
     "output_type": "stream",
     "text": [
      "columns in courses_cb:\n",
      " Index(['semester', 'examForm', 'coefficient', 'subjectExamined', 'lecture',\n",
      "       'exercises', 'programs', 'lecturers', 'language', 'withdrawal',\n",
      "       'remark', 'summary', 'content', 'keywords', 'requiredCourses',\n",
      "       'recommendedCourses', 'priorConcepts', 'preparationFor', 'project',\n",
      "       'numberOfPlaces', 'practicalWork', 'credits', 'labs'],\n",
      "      dtype='object')\n",
      "Number of courses in courses_sp: 1815\n"
     ]
    }
   ],
   "source": [
    "print('columns in courses_cb:\\n', courses_cb.columns)\n",
    "print(f'Number of courses in courses_sp: {courses_cb.index.nunique()}')"
   ]
  },
  {
   "cell_type": "code",
   "execution_count": 12,
   "metadata": {},
   "outputs": [],
   "source": [
    "# Interpret no semester info as the course is taught in any semester\n",
    "courses_cb.loc[courses_cb.semester == '', 'semester'] = 'Any'"
   ]
  },
  {
   "cell_type": "markdown",
   "metadata": {},
   "source": [
    "The columns `coefficient` and `credits` should be merged."
   ]
  },
  {
   "cell_type": "code",
   "execution_count": 13,
   "metadata": {},
   "outputs": [],
   "source": [
    "assert not (courses_cb.credits == courses_cb.coefficient).any()"
   ]
  },
  {
   "cell_type": "markdown",
   "metadata": {},
   "source": [
    "No rows should have both `credits` and `coefficient` column. Some rows have neither column specified.\n",
    "\n",
    "Let's first merge the columns and then manually fill in the gaps if possible."
   ]
  },
  {
   "cell_type": "code",
   "execution_count": 14,
   "metadata": {},
   "outputs": [],
   "source": [
    "courses_cb.credits.fillna(courses_cb.coefficient, inplace=True)\n",
    "courses_cb.drop('coefficient', axis=1, inplace=True)"
   ]
  },
  {
   "cell_type": "markdown",
   "metadata": {},
   "source": [
    "Let's now fill in the gaps"
   ]
  },
  {
   "cell_type": "code",
   "execution_count": 15,
   "metadata": {},
   "outputs": [
    {
     "name": "stdout",
     "output_type": "stream",
     "text": [
      "Courses with no credits info (imputed with 0):\n",
      "Index(['eng-274', 'pens-200', 'phys-300-a'], dtype='object', name='slug')\n"
     ]
    }
   ],
   "source": [
    "print('Courses with no credits info (imputed with 0):')\n",
    "print(courses_cb[courses_cb.credits.isna()].index)"
   ]
  },
  {
   "cell_type": "markdown",
   "metadata": {},
   "source": [
    "Notes:\n",
    "* ENG-274 is without credits\n",
    "* PENS-200 Ground control in Swiss law, credits are included in the ENAC week\n",
    "* PHYS-300(a) is also without credits"
   ]
  },
  {
   "cell_type": "code",
   "execution_count": 16,
   "metadata": {},
   "outputs": [],
   "source": [
    "courses_cb.fillna(value={'credits': '0'}, inplace=True)\n",
    "assert courses_cb.credits.notna().all()"
   ]
  },
  {
   "cell_type": "code",
   "execution_count": 17,
   "metadata": {},
   "outputs": [
    {
     "name": "stdout",
     "output_type": "stream",
     "text": [
      "            semester  lecturers  practicalWork  credits\n",
      "slug                                                   \n",
      "bio-482            1          2              1        1\n",
      "bio-502            2          1              1        1\n",
      "bioeng-448         1          3              1        1\n",
      "ch-443             2          1              1        1\n",
      "ch-444             2          1              1        1\n",
      "cs-433             1          2              1        1\n",
      "dh-500             2          1              1        1\n",
      "fin-401            1          1              2        1\n",
      "me-411             1          1              2        2\n",
      "micro-568          1          2              1        1\n",
      "micro-723          2          1              1        1\n"
     ]
    }
   ],
   "source": [
    "# Treat programs column separately\n",
    "courses_programs = courses_cb.pop('programs')\n",
    "courses_cb = courses_cb.astype({ 'lecturers': str })\n",
    "dups = get_duplicates(courses_cb)\n",
    "print(dups)"
   ]
  },
  {
   "cell_type": "code",
   "execution_count": 18,
   "metadata": {},
   "outputs": [],
   "source": [
    "courses_cb.loc['bio-482', 'lecturers'] = courses_cb.loc['bio-482'].lecturers[0]\n",
    "courses_cb.loc['bio-502', 'semester'] = courses_cb.loc['bio-502'].semester[0]\n",
    "courses_cb.loc['bioeng-448', 'lecturers'] = courses_cb.loc['bioeng-448'].lecturers[1]\n",
    "courses_cb.loc['ch-443', 'semester'] = courses_cb.loc['ch-443'].semester[0]\n",
    "courses_cb.loc['ch-444', 'semester'] = courses_cb.loc['ch-444'].semester[0]\n",
    "courses_cb.loc['cs-433', 'lecturers'] = courses_cb.loc['cs-433'].lecturers[0]\n",
    "courses_cb.loc['dh-500', 'semester'] = courses_cb.loc['dh-500'].semester[0]\n",
    "courses_cb.loc['fin-401', 'practicalWork'] = courses_cb.loc['fin-401'].practicalWork[0]\n",
    "courses_cb.loc['me-411', 'practicalWork'] = courses_cb.loc['me-411'].practicalWork[0]\n",
    "courses_cb.loc['me-411', 'credits'] = courses_cb.loc['me-411'].credits[0]\n",
    "courses_cb.loc['micro-568', 'lecturers'] = courses_cb.loc['micro-568'].lecturers[0]\n",
    "courses_cb.loc['micro-723', 'semester'] = courses_cb.loc['micro-723'].semester[0]"
   ]
  },
  {
   "cell_type": "code",
   "execution_count": 19,
   "metadata": {},
   "outputs": [],
   "source": [
    "dups = get_duplicates(courses_cb)\n",
    "if len(dups) > 0:\n",
    "    print('Unhandled duplicates (coursebook):\\n', dups)\n",
    "    print(courses_cb.loc[dups.index])\n",
    "assert dups.size == 0\n",
    "\n",
    "courses_cb = df_strip(courses_cb)\n",
    "courses_cb.drop_duplicates(inplace=True)"
   ]
  },
  {
   "cell_type": "code",
   "execution_count": 20,
   "metadata": {},
   "outputs": [],
   "source": [
    "# merge programs fields for each course\n",
    "# first explode lists and transform to dataframe\n",
    "# with columns programSourceId and semesterNumbers\n",
    "programs_exploded = courses_programs.explode()\n",
    "programs_df = pd.json_normalize(programs_exploded).set_index(programs_exploded.index)"
   ]
  },
  {
   "cell_type": "code",
   "execution_count": 21,
   "metadata": {},
   "outputs": [],
   "source": [
    "programs_map = {\n",
    "    program['sourceId']: {\n",
    "        'levelSlug': level['slug'],\n",
    "        'levelTitle': level['title'],\n",
    "        'programSlug': program['slug'],\n",
    "        'programTitle': program['title']\n",
    "    }\n",
    "    for level in programs\n",
    "    for program in level['programs']\n",
    "}"
   ]
  },
  {
   "cell_type": "code",
   "execution_count": 22,
   "metadata": {},
   "outputs": [],
   "source": [
    "# Retain only supported program ids\n",
    "programs_df = programs_df[programs_df.programSourceId.isin(programs_map)]\n",
    "\n",
    "# Map each source id to level and program details dict\n",
    "programs_details = programs_df.programSourceId.apply(lambda v: programs_map[v])\n",
    "programs_details = pd.json_normalize(programs_details).set_index(programs_details.index)\n",
    "\n",
    "# Concatenate resulting DF with semesterNumbers column\n",
    "programs_df = pd.concat([programs_details, programs_df.semesterNumbers], axis=1).astype({ 'semesterNumbers': str })"
   ]
  },
  {
   "cell_type": "code",
   "execution_count": 23,
   "metadata": {},
   "outputs": [
    {
     "name": "stdout",
     "output_type": "stream",
     "text": [
      "                                    semesterNumbers\n",
      "(cs-596, master, computer-science)                2\n",
      "(cs-596, master, cybersecurity)                   2\n"
     ]
    },
    {
     "name": "stderr",
     "output_type": "stream",
     "text": [
      "<ipython-input-23-1dfef9affdcd>:6: PerformanceWarning: indexing past lexsort depth may impact performance.\n",
      "  programs_df.loc[('cs-596', 'master', 'computer-science'), 'semesterNumbers'] = programs_df.loc[('cs-596', 'master', 'computer-science')].semesterNumbers[0]\n",
      "C:\\Users\\valentin\\coursebook-api\\py\\env\\lib\\site-packages\\IPython\\core\\interactiveshell.py:2877: PerformanceWarning: indexing past lexsort depth may impact performance.\n",
      "  result = self._run_cell(\n",
      "C:\\Users\\valentin\\coursebook-api\\py\\env\\lib\\site-packages\\IPython\\core\\async_helpers.py:68: PerformanceWarning: indexing past lexsort depth may impact performance.\n",
      "  coro.send(None)\n",
      "<ipython-input-23-1dfef9affdcd>:7: PerformanceWarning: indexing past lexsort depth may impact performance.\n",
      "  programs_df.loc[('cs-596', 'master', 'cybersecurity'), 'semesterNumbers'] = programs_df.loc[('cs-596', 'master', 'cybersecurity')].semesterNumbers[0]\n"
     ]
    }
   ],
   "source": [
    "# duplicate sanity check\n",
    "programs_df = programs_df.reset_index().set_index(['slug', 'levelSlug', 'programSlug'])\n",
    "dups = get_duplicates(programs_df)\n",
    "print(dups)\n",
    "\n",
    "programs_df.loc[('cs-596', 'master', 'computer-science'), 'semesterNumbers'] = programs_df.loc[('cs-596', 'master', 'computer-science')].semesterNumbers[0]\n",
    "programs_df.loc[('cs-596', 'master', 'cybersecurity'), 'semesterNumbers'] = programs_df.loc[('cs-596', 'master', 'cybersecurity')].semesterNumbers[0]\n",
    "\n",
    "dups = get_duplicates(programs_df)\n",
    "if len(dups) > 0:\n",
    "    print('Unhandled duplicates (programs):\\n', dups)\n",
    "    print(programs_df.loc[dups.index])\n",
    "assert dups.size == 0"
   ]
  },
  {
   "cell_type": "code",
   "execution_count": 24,
   "metadata": {},
   "outputs": [
    {
     "name": "stderr",
     "output_type": "stream",
     "text": [
      "<ipython-input-24-343c003408fa>:1: PerformanceWarning: indexing past lexsort depth may impact performance.\n",
      "  programs_df.loc[('cs-596', 'master', 'computer-science'), 'semesterNumbers'] = programs_df.loc[('cs-596', 'master', 'computer-science')].semesterNumbers[0]\n",
      "C:\\Users\\valentin\\coursebook-api\\py\\env\\lib\\site-packages\\IPython\\core\\interactiveshell.py:2877: PerformanceWarning: indexing past lexsort depth may impact performance.\n",
      "  result = self._run_cell(\n",
      "C:\\Users\\valentin\\coursebook-api\\py\\env\\lib\\site-packages\\IPython\\core\\async_helpers.py:68: PerformanceWarning: indexing past lexsort depth may impact performance.\n",
      "  coro.send(None)\n",
      "<ipython-input-24-343c003408fa>:2: PerformanceWarning: indexing past lexsort depth may impact performance.\n",
      "  programs_df.loc[('cs-596', 'master', 'cybersecurity'), 'semesterNumbers'] = programs_df.loc[('cs-596', 'master', 'cybersecurity')].semesterNumbers[0]\n"
     ]
    }
   ],
   "source": [
    "programs_df.loc[('cs-596', 'master', 'computer-science'), 'semesterNumbers'] = programs_df.loc[('cs-596', 'master', 'computer-science')].semesterNumbers[0]\n",
    "programs_df.loc[('cs-596', 'master', 'cybersecurity'), 'semesterNumbers'] = programs_df.loc[('cs-596', 'master', 'cybersecurity')].semesterNumbers[0]"
   ]
  },
  {
   "cell_type": "code",
   "execution_count": 25,
   "metadata": {},
   "outputs": [],
   "source": [
    "programs_df = programs_df.reset_index().drop_duplicates()\n",
    "programs_df['semesterNumbers'] = programs_df.semesterNumbers.apply(eval)"
   ]
  },
  {
   "cell_type": "code",
   "execution_count": 26,
   "metadata": {},
   "outputs": [],
   "source": [
    "def key_func(series):\n",
    "    if series.name == 'levelSlug':\n",
    "        return series.replace({\n",
    "            'propedeutics': 0,\n",
    "            'bachelor': 1,\n",
    "            'master': 2,\n",
    "            'minor': 3,\n",
    "            'doctoral-school': 4\n",
    "        })\n",
    "    return series\n",
    "\n",
    "programs_df = programs_df.sort_values(by=['slug', 'levelSlug', 'programSlug'], key=key_func)"
   ]
  },
  {
   "cell_type": "code",
   "execution_count": 27,
   "metadata": {},
   "outputs": [],
   "source": [
    "def create_program_column(r):\n",
    "    program = {\n",
    "        'title': r.programTitle,\n",
    "        'slug': r.programSlug,\n",
    "        'semesterNumbers': r.semesterNumbers\n",
    "    }\n",
    "\n",
    "    if r.levelSlug == 'master':\n",
    "        program['specializations'] = (\n",
    "            courses_specializations.loc[r.slug][r.programSlug]\n",
    "            if r.programSlug in courses_specializations.loc[r.slug]\n",
    "            else []\n",
    "        )\n",
    "    return program\n",
    "\n",
    "programs_df['program'] = programs_df.apply(create_program_column, axis=1)"
   ]
  },
  {
   "cell_type": "code",
   "execution_count": 28,
   "metadata": {},
   "outputs": [],
   "source": [
    "programs_df.drop(['programTitle', 'programSlug', 'semesterNumbers'], axis=1, inplace=True)"
   ]
  },
  {
   "cell_type": "code",
   "execution_count": 29,
   "metadata": {},
   "outputs": [],
   "source": [
    "def agg_programs(df):\n",
    "    first = df.iloc[0]\n",
    "    return {\n",
    "        'title': first.levelTitle,\n",
    "        'slug': first.levelSlug,\n",
    "        'programs': list(df.program)\n",
    "    }\n",
    "\n",
    "programs_df = programs_df.groupby(['slug', 'levelSlug'], sort=False).apply(agg_programs).droplevel('levelSlug')\n",
    "programs_df = programs_df.groupby('slug', sort=False).apply(lambda ser: list(ser)).rename('levels')"
   ]
  },
  {
   "cell_type": "code",
   "execution_count": 30,
   "metadata": {},
   "outputs": [],
   "source": [
    "courses_cb['levels'] = programs_df.astype(str)"
   ]
  },
  {
   "cell_type": "code",
   "execution_count": 31,
   "metadata": {},
   "outputs": [
    {
     "name": "stdout",
     "output_type": "stream",
     "text": [
      "Courses without linked coursebook page:\n",
      " slug\n",
      "pens-223                                   Waters within cities\n",
      "mgt-431                       Information: strategy & economics\n",
      "ch-709        Frontiers in Organic Synthesis. Part III Stere...\n",
      "ch-710        Gene transfer and recombinant protein expressi...\n",
      "che-608-1     Highlights in Energy Research : Sustainable en...\n",
      "che-608-2     Highlights in Energy Research : Sustainable en...\n",
      "ch-610        Inorganic chemistry \"Fundamentals and properties\"\n",
      "ch-611             Inorganic chemistry \"Techniques and methods\"\n",
      "bioeng-803    Summer School on Neurophysiology for Neural an...\n",
      "phys-635         Semiconductor photonics and quantum structures\n",
      "phys-642        Statistical physics for optimization & learning\n",
      "phys-816                          Lecture series on Biomimetics\n",
      "Name: name, dtype: object\n"
     ]
    }
   ],
   "source": [
    "courses_nolink = courses_sp[~courses_sp.index.isin(courses_cb.index)]\n",
    "print('Courses without linked coursebook page:\\n', courses_nolink.name)\n",
    "\n",
    "# Manually fill in semester info for these courses later"
   ]
  },
  {
   "cell_type": "code",
   "execution_count": 32,
   "metadata": {},
   "outputs": [],
   "source": [
    "# Ensure indexes of dataframes are compatible:\n",
    "courses_cb = courses_cb.reindex(index=courses_sp.index)\n",
    "\n",
    "# Fill NaN with empty list string (later converted to list)\n",
    "courses_cb.loc[courses_cb.levels.isna(), 'levels'] = '[]'"
   ]
  },
  {
   "cell_type": "markdown",
   "metadata": {},
   "source": [
    "## Merge `courses_sp` and `courses_cb`\n",
    "***"
   ]
  },
  {
   "cell_type": "code",
   "execution_count": 33,
   "metadata": {},
   "outputs": [],
   "source": [
    "common_cols = courses_cb.columns.intersection(courses_sp.columns)\n",
    "for col in common_cols:\n",
    "    idx = courses_cb[col].isna()\n",
    "    # Replace NaN in courses_cb with values in courses_sp\n",
    "    courses_cb.loc[idx, col] = courses_sp.loc[idx, col]"
   ]
  },
  {
   "cell_type": "code",
   "execution_count": 34,
   "metadata": {},
   "outputs": [],
   "source": [
    "# Lecturers in one dataframe contains only last names\n",
    "# so we need to compare SCIPER numbers to detect discrepancies\n",
    "lecturers = pd.concat(\n",
    "    [courses_sp.lecturers, courses_cb.lecturers],\n",
    "    keys=['l_studyplan', 'l_coursebook'],\n",
    "    axis=1\n",
    ")\n",
    "\n",
    "lecturers_sciper = (\n",
    "    lecturers\n",
    "    .applymap(lambda val: sorted(v['sciper'] if v['sciper'] else '' for v in eval(val)))\n",
    "    .astype(str)\n",
    ")"
   ]
  },
  {
   "cell_type": "code",
   "execution_count": 35,
   "metadata": {},
   "outputs": [
    {
     "name": "stdout",
     "output_type": "stream",
     "text": [
      "Inconsistent lecturers info in studyplans vs coursebooks\n",
      "                                                  l_studyplan  \\\n",
      "slug                                                            \n",
      "math-260-a        [{'name': 'Viazovska', 'sciper': '280037'}]   \n",
      "math-260-b  [{'name': 'De Courcy-Ireland', 'sciper': '2971...   \n",
      "bio-472     [{'name': 'De Palma', 'sciper': '213145'}, {'n...   \n",
      "bioeng-511                                                 []   \n",
      "bioeng-512                                                 []   \n",
      "bioeng-513                                                 []   \n",
      "bioeng-514                                                 []   \n",
      "bioeng-516                                                 []   \n",
      "bioeng-517                                                 []   \n",
      "bio-482     [{'name': 'Crochet', 'sciper': '165867'}, {'na...   \n",
      "bio-467     [{'name': 'Altug', 'sciper': '231181'}, {'name...   \n",
      "bio-468     [{'name': 'Barth', 'sciper': '287093'}, {'name...   \n",
      "\n",
      "                                                 l_coursebook  \n",
      "slug                                                           \n",
      "math-260-a  [{'name': 'De Courcy-Ireland Matthew', 'sciper...  \n",
      "math-260-b  [{'name': 'De Courcy-Ireland Matthew', 'sciper...  \n",
      "bio-472     [{'name': 'De Palma Michele', 'sciper': '21314...  \n",
      "bioeng-511  [{'name': 'Doenlen Raphaël', 'sciper': '188367...  \n",
      "bioeng-512  [{'name': 'Chambon Marc', 'sciper': '112822'},...  \n",
      "bioeng-513      [{'name': 'Various lecturers', 'sciper': ''}]  \n",
      "bioeng-514    [{'name': 'Garcia Miguel', 'sciper': '184841'}]  \n",
      "bioeng-516  [{'name': 'Sordet-Dessimoz Jessica', 'sciper':...  \n",
      "bioeng-517  [{'name': 'Chiappe Diego', 'sciper': '170330'}...  \n",
      "bio-482     [{'name': 'Crochet Sylvain', 'sciper': '165867...  \n",
      "bio-467     [{'name': 'Altug Hatice', 'sciper': '231181'},...  \n",
      "bio-468     [{'name': 'Barth Patrick Daniel', 'sciper': '2...  \n"
     ]
    }
   ],
   "source": [
    "# with pd.option_context('display.max_rows', None, 'display.max_columns', None, 'display.max_columns', None):\n",
    "lecturers_inconsistent = lecturers[lecturers_sciper.l_studyplan != lecturers_sciper.l_coursebook]\n",
    "print('Inconsistent lecturers info in studyplans vs coursebooks')\n",
    "print(lecturers_inconsistent)"
   ]
  },
  {
   "cell_type": "code",
   "execution_count": 36,
   "metadata": {},
   "outputs": [],
   "source": [
    "# Rely on lecturers info given in coursebooks\n",
    "courses_sp.lecturers = courses_cb.lecturers\n",
    "courses_cb.drop('lecturers', axis=1, inplace=True)"
   ]
  },
  {
   "cell_type": "code",
   "execution_count": 37,
   "metadata": {},
   "outputs": [],
   "source": [
    "common_cols = common_cols.drop('lecturers')"
   ]
  },
  {
   "cell_type": "code",
   "execution_count": 38,
   "metadata": {},
   "outputs": [],
   "source": [
    "diffs = courses_sp[common_cols].ne(courses_cb[common_cols])\n",
    "# drop columns with no differences\n",
    "cols_diff = common_cols[diffs.any()]\n",
    "cols_nodiff = common_cols.drop(cols_diff)\n",
    "# drop from either dataframe\n",
    "courses_cb.drop(cols_nodiff, axis=1, inplace=True)"
   ]
  },
  {
   "cell_type": "code",
   "execution_count": 39,
   "metadata": {},
   "outputs": [
    {
     "name": "stdout",
     "output_type": "stream",
     "text": [
      "          examForm_studyplan  examForm_coursebook\n",
      "slug                                             \n",
      "ar-101                        During the semester\n",
      "ar-201-a                      During the semester\n",
      "ar-201-n                      During the semester\n",
      "ar-201-g                      During the semester\n",
      "ar-201-m                      During the semester\n",
      "ar-201-o                      During the semester\n",
      "bio-378                                      Oral\n",
      "bio-203                       During the semester\n",
      "micro-313                                 Written\n",
      "phys-203                      During the semester\n",
      "phys-204                      During the semester\n",
      "ch-633          Oral,Written                 Oral\n",
      "                                            remark_studyplan  \\\n",
      "slug                                                           \n",
      "ar-485                                  Pas donné en 2020-21   \n",
      "ar-453     Cours biennal, donné une année sur deux (pas d...   \n",
      "ar-497     Cours donné les années impaires (pas donné en ...   \n",
      "ar-535                                  Pas donné en 2020-21   \n",
      "ar-487                                  Pas donné en 2020-21   \n",
      "ch-428                                  Pas donné en 2020-21   \n",
      "com-597    L'étudiant doit effectuer un stage de 8 semain...   \n",
      "micro-723                                                      \n",
      "mgt-555    Can be taken instead of Research Project in Ma...   \n",
      "ee-492-d   Only from second semester (Electrical and Elec...   \n",
      "che-304                               Pas donné en 2020-2021   \n",
      "ar-403                                  Pas donné en 2020-21   \n",
      "fin-406                                 Pas donné en 2020-21   \n",
      "me-418                                  Pas donné en 2020-21   \n",
      "ch-422                                                         \n",
      "ch-442                                    Pas donné en 20/21   \n",
      "phys-597   Duration of a internal specialisation semester...   \n",
      "phys-609             Next time Summer 2021 - To be confirmed   \n",
      "ar-804                                  Postponed until 2021   \n",
      "che-604                             Next time: December 2021   \n",
      "ch-707                                Next time: Spring 2023   \n",
      "che-606-1                                Next time Fall 2022   \n",
      "che-606-2                             Next time: Spring 2023   \n",
      "ch-605                                Next time: Spring 2022   \n",
      "che-601-2                    Next time: Spring 2021 via Zoom   \n",
      "ch-604                                 Next time Spring 2022   \n",
      "ch-632                                Next time: Spring 2021   \n",
      "eng-626    Next time: 2021-2022 // Registration via: \\nht...   \n",
      "phys-605                      Postponed until further notice   \n",
      "\n",
      "                                           remark_coursebook  \n",
      "slug                                                          \n",
      "ar-485                                                        \n",
      "ar-453     Cours biennal, donné une année sur deux, donné...  \n",
      "ar-497                                                        \n",
      "ar-535                                                        \n",
      "ar-487                                                        \n",
      "ch-428                                  Pas donné en 2019-20  \n",
      "com-597    L'étudiant doit effectuer un stage de 8 semain...  \n",
      "micro-723                                        Spring 2020  \n",
      "mgt-555                                                       \n",
      "ee-492-d                                                      \n",
      "che-304                                                       \n",
      "ar-403                                  Pas donné en 2019-20  \n",
      "fin-406    For sem. MA1. Special schedule: see the IF web...  \n",
      "me-418                                                        \n",
      "ch-422                                  Pas donné en 2019/20  \n",
      "ch-442                                                        \n",
      "phys-597   Durée du travail de spécialisation interne : u...  \n",
      "phys-609   Next time ONLINE (Zoom) block course June 8-12...  \n",
      "ar-804                                       Next time: 2021  \n",
      "che-604                             Next time: December 2019  \n",
      "ch-707                                Next time: Spring 2020  \n",
      "che-606-1                Every 3 years. Next time: Fall 2019  \n",
      "che-606-2              Every 3 years. Next time: Spring 2020  \n",
      "ch-605                            Virtual course Spring 2020  \n",
      "che-601-2                             Next time: Spring 2021  \n",
      "ch-604                      Spring 2020 from: 2.02 to: 16.02  \n",
      "ch-632                                Next time: Winter 2020  \n",
      "eng-626    Next time: 30 and 1 October, 1 November 2019 /...  \n",
      "phys-605                  To be scheduled after Corona virus  \n",
      "           credits_studyplan credits_coursebook\n",
      "slug                                           \n",
      "ar-101                                       14\n",
      "ar-201-a                                     20\n",
      "ar-201-n                                     20\n",
      "ar-201-g                                     20\n",
      "ar-201-m                                     20\n",
      "ar-201-o                                     20\n",
      "eng-274                                       0\n",
      "pens-200                                      0\n",
      "bio-378                                       6\n",
      "bio-203                                       6\n",
      "micro-313                                     7\n",
      "phys-300-a                                    0\n",
      "phys-203                                      7\n",
      "phys-204                                      8\n",
      "ch-633                     4                  2\n"
     ]
    }
   ],
   "source": [
    "with pd.option_context('display.max_rows', None):\n",
    "    for col in cols_diff:\n",
    "        df = pd.concat([\n",
    "            courses_sp[col].loc[diffs[col]],\n",
    "            courses_cb[col].loc[diffs[col]]\n",
    "        ], axis=1, keys=[f'{col}_studyplan', f'{col}_coursebook'])\n",
    "        print(df)"
   ]
  },
  {
   "cell_type": "code",
   "execution_count": 40,
   "metadata": {},
   "outputs": [],
   "source": [
    "# coursebook is more up to date for columns 'credits' and 'examForm'\n",
    "courses_sp.drop(['credits', 'examForm'], axis=1, inplace=True)\n",
    "# studyplan is more up to date for column 'remark'\n",
    "courses_cb.drop('remark', axis=1, inplace=True)"
   ]
  },
  {
   "cell_type": "code",
   "execution_count": 41,
   "metadata": {},
   "outputs": [],
   "source": [
    "courses = pd.concat([courses_sp, courses_cb], axis=1)"
   ]
  },
  {
   "cell_type": "code",
   "execution_count": 42,
   "metadata": {},
   "outputs": [
    {
     "name": "stdout",
     "output_type": "stream",
     "text": [
      "Manually filling in semester info for courses without coursebook link\n",
      "['pens-223', 'mgt-431', 'ch-709', 'ch-710', 'che-608-1', 'che-608-2', 'ch-610', 'ch-611', 'bioeng-803', 'phys-635', 'phys-642', 'phys-816']\n"
     ]
    }
   ],
   "source": [
    "# Manually fill in semester info for courses without coursebook link\n",
    "print('Manually filling in semester info for courses without coursebook link')\n",
    "print(list(courses_nolink.index))"
   ]
  },
  {
   "cell_type": "code",
   "execution_count": 43,
   "metadata": {},
   "outputs": [],
   "source": [
    "spring = 'Spring'\n",
    "fall = 'Fall'\n",
    "Any = 'Any'\n",
    "\n",
    "manual_semester = {\n",
    "    'pens-223': spring,\n",
    "    'mgt-431': spring,\n",
    "    'ch-709': spring,\n",
    "    'ch-710': Any,  # don't know\n",
    "    'che-608-1': fall,\n",
    "    'che-608-2': spring,\n",
    "    'ch-610': fall,\n",
    "    'ch-611': fall,\n",
    "    'bioeng-803': fall,  # summer school (late August)\n",
    "    'phys-635': spring,\n",
    "    'phys-642': Any,  # https://edu.epfl.ch/coursebook/en/statistical-physics-for-optimization-learning-PHYS-642\n",
    "    'phys-816': spring\n",
    "}\n",
    "\n",
    "for idx, semester in manual_semester.items():\n",
    "    courses.loc[idx, 'semester'] = semester"
   ]
  },
  {
   "cell_type": "code",
   "execution_count": 44,
   "metadata": {},
   "outputs": [
    {
     "name": "stdout",
     "output_type": "stream",
     "text": [
      "Columns not NaN check:\n",
      "\n",
      "code          True\n",
      "name          True\n",
      "section       True\n",
      "language      True\n",
      "lecturers     True\n",
      "sourceSlug    True\n",
      "semester      True\n",
      "examForm      True\n",
      "credits       True\n",
      "levels        True\n",
      "dtype: bool\n"
     ]
    }
   ],
   "source": [
    "# values in these columns should not be NaN\n",
    "cols_notna = ['code', 'name', 'section', 'language', 'lecturers', 'sourceSlug', 'semester', 'examForm', 'credits', 'levels']\n",
    "cols_notna_each = courses[cols_notna].notna().all()\n",
    "print('Columns not NaN check:\\n')\n",
    "print(cols_notna_each)\n",
    "assert cols_notna_each.all()"
   ]
  },
  {
   "cell_type": "code",
   "execution_count": 45,
   "metadata": {},
   "outputs": [],
   "source": [
    "# Fill NaN in other columns with empty string\n",
    "courses.fillna(value='', inplace=True)"
   ]
  },
  {
   "cell_type": "code",
   "execution_count": 46,
   "metadata": {},
   "outputs": [
    {
     "name": "stdout",
     "output_type": "stream",
     "text": [
      "Comparing `subjectExamined` and `name` fields\n",
      "\n",
      "                                        subjectExamined  \\\n",
      "slug                                                      \n",
      "ar-101                                   Studio BA1,BA2   \n",
      "ar-102                                   Studio BA1,BA2   \n",
      "ar-201-a            Studio BA3, BA4 (Bakker & Blanc A.)   \n",
      "ar-202-a            Studio BA3, BA4 (Bakker & Blanc A.)   \n",
      "ar-201-n                     Studio BA3, BA4 (Lapierre)   \n",
      "ar-202-n                     Studio BA3, BA4 (Lapierre)   \n",
      "ar-201-g                          Studio BA3, BA4 (Rey)   \n",
      "ar-202-g                          Studio BA3, BA4 (Rey)   \n",
      "ar-201-m                     Studio BA3, BA4 (Taillieu)   \n",
      "ar-202-m                     Studio BA3, BA4 (Taillieu)   \n",
      "ar-201-o                   Studio BA3, BA4 (Verschuere)   \n",
      "ar-202-o                   Studio BA3, BA4 (Verschuere)   \n",
      "pens-200                                                  \n",
      "pens-223                                                  \n",
      "bio-378                             Physiology lab I,II   \n",
      "bio-379                             Physiology lab I,II   \n",
      "bio-203           Integrated labo in Life sciences I,II   \n",
      "bio-204           Integrated labo in Life sciences I,II   \n",
      "micro-313   Actuators and Electromagnetic systems I, II   \n",
      "micro-314   Actuators and Electromagnetic systems I, II   \n",
      "phys-300-a                                                \n",
      "phys-203                     Computational physics I,II   \n",
      "phys-210                     Computational physics I,II   \n",
      "phys-204                           Physics lab IIa, IIb   \n",
      "phys-211                           Physics lab IIa, IIb   \n",
      "mgt-431                                                   \n",
      "ch-709                                                    \n",
      "ch-710                                                    \n",
      "che-608-1                                                 \n",
      "che-608-2                                                 \n",
      "ch-610                                                    \n",
      "ch-611                                                    \n",
      "bioeng-803                                                \n",
      "phys-635                                                  \n",
      "phys-642                                                  \n",
      "phys-816                                                  \n",
      "\n",
      "                                                         name  \n",
      "slug                                                           \n",
      "ar-101                                             Studio BA1  \n",
      "ar-102                                             Studio BA2  \n",
      "ar-201-a                       Studio BA3 (Bakker & Blanc A.)  \n",
      "ar-202-a                       Studio BA4 (Bakker & Blanc A.)  \n",
      "ar-201-n                                Studio BA3 (Lapierre)  \n",
      "ar-202-n                                Studio BA4 (Lapierre)  \n",
      "ar-201-g                                     Studio BA3 (Rey)  \n",
      "ar-202-g                                     Studio BA4 (Rey)  \n",
      "ar-201-m                                Studio BA3 (Taillieu)  \n",
      "ar-202-m                                Studio BA4 (Taillieu)  \n",
      "ar-201-o                              Studio BA3 (Verschuere)  \n",
      "ar-202-o                              Studio BA4 (Verschuere)  \n",
      "pens-200                   La maîtrise du sol en droit suisse  \n",
      "pens-223                                 Waters within cities  \n",
      "bio-378                                      Physiology lab I  \n",
      "bio-379                                     Physiology lab II  \n",
      "bio-203                    Integrated labo in Life sciences I  \n",
      "bio-204                   Integrated labo in Life sciences II  \n",
      "micro-313             Actuators and Electromagnetic systems I  \n",
      "micro-314            Actuators and Electromagnetic systems II  \n",
      "phys-300-a              Introduction to construction technics  \n",
      "phys-203                              Computational physics I  \n",
      "phys-210                             Computational physics II  \n",
      "phys-204                                      Physics lab IIa  \n",
      "phys-211                                      Physics lab IIb  \n",
      "mgt-431                     Information: strategy & economics  \n",
      "ch-709      Frontiers in Organic Synthesis. Part III Stere...  \n",
      "ch-710      Gene transfer and recombinant protein expressi...  \n",
      "che-608-1   Highlights in Energy Research : Sustainable en...  \n",
      "che-608-2   Highlights in Energy Research : Sustainable en...  \n",
      "ch-610      Inorganic chemistry \"Fundamentals and properties\"  \n",
      "ch-611           Inorganic chemistry \"Techniques and methods\"  \n",
      "bioeng-803  Summer School on Neurophysiology for Neural an...  \n",
      "phys-635       Semiconductor photonics and quantum structures  \n",
      "phys-642      Statistical physics for optimization & learning  \n",
      "phys-816                        Lecture series on Biomimetics  \n"
     ]
    }
   ],
   "source": [
    "print('Comparing `subjectExamined` and `name` fields\\n')\n",
    "print(courses[courses.subjectExamined != courses.name][['subjectExamined', 'name']])"
   ]
  },
  {
   "cell_type": "code",
   "execution_count": 47,
   "metadata": {},
   "outputs": [],
   "source": [
    "# Drop subjectExamined field\n",
    "courses.drop('subjectExamined', axis=1, inplace=True)"
   ]
  },
  {
   "cell_type": "code",
   "execution_count": 48,
   "metadata": {},
   "outputs": [],
   "source": [
    "text_cols = ['summary', 'content', 'keywords', 'requiredCourses', 'recommendedCourses', 'priorConcepts', 'preparationFor']\n",
    "courses_text = courses[text_cols]\n",
    "courses.drop(text_cols, axis=1, inplace=True)"
   ]
  },
  {
   "cell_type": "code",
   "execution_count": 49,
   "metadata": {},
   "outputs": [],
   "source": [
    "# str --> list\n",
    "courses[['lecturers', 'levels']] = courses[['lecturers', 'levels']].applymap(eval)\n",
    "# str --> int\n",
    "courses = courses.astype({\n",
    "    'credits': int\n",
    "})\n",
    "courses.reset_index(inplace=True)"
   ]
  },
  {
   "cell_type": "code",
   "execution_count": 50,
   "metadata": {},
   "outputs": [],
   "source": [
    "# %pycat utils/write"
   ]
  },
  {
   "cell_type": "code",
   "execution_count": 51,
   "metadata": {},
   "outputs": [],
   "source": [
    "write.write_df_processed('courses', courses)"
   ]
  },
  {
   "cell_type": "code",
   "execution_count": 52,
   "metadata": {},
   "outputs": [],
   "source": [
    "write.write_df_processed('courses-text', courses_text, orient='index')"
   ]
  },
  {
   "cell_type": "markdown",
   "metadata": {},
   "source": [
    "## Process `programs` and create `epfl` dict\n",
    "***"
   ]
  },
  {
   "cell_type": "code",
   "execution_count": 53,
   "metadata": {},
   "outputs": [],
   "source": [
    "# add 'courses' property to all levels\n",
    "for level in programs:\n",
    "    # set comprehension\n",
    "    level['courses'] = list({\n",
    "        c\n",
    "        for p in level['programs']\n",
    "        for c in p['courses']\n",
    "    })"
   ]
  },
  {
   "cell_type": "code",
   "execution_count": 54,
   "metadata": {},
   "outputs": [],
   "source": [
    "# add 'courses' property to top level\n",
    "epfl = {\n",
    "    'courses': list(courses.slug.values),\n",
    "    'levels': programs\n",
    "}"
   ]
  },
  {
   "cell_type": "code",
   "execution_count": 55,
   "metadata": {},
   "outputs": [],
   "source": [
    "write.write_object('epfl', epfl, subdir='processed')"
   ]
  },
  {
   "cell_type": "code",
   "execution_count": null,
   "metadata": {},
   "outputs": [],
   "source": []
  }
 ],
 "metadata": {
  "kernelspec": {
   "display_name": "coursebook-env",
   "language": "python",
   "name": "coursebook-env"
  },
  "language_info": {
   "codemirror_mode": {
    "name": "ipython",
    "version": 3
   },
   "file_extension": ".py",
   "mimetype": "text/x-python",
   "name": "python",
   "nbconvert_exporter": "python",
   "pygments_lexer": "ipython3",
   "version": "3.9.1"
  }
 },
 "nbformat": 4,
 "nbformat_minor": 4
}
