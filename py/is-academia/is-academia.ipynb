{
 "cells": [
  {
   "cell_type": "code",
   "execution_count": 1,
   "metadata": {},
   "outputs": [
    {
     "name": "stdout",
     "output_type": "stream",
     "text": [
      "Your gaspar id is loftsson and your password is a secret!\n"
     ]
    }
   ],
   "source": [
    "# import requests\n",
    "import os\n",
    "import re\n",
    "import json\n",
    "import requests\n",
    "from requests import get\n",
    "from bs4 import BeautifulSoup as bsoup\n",
    "from dotenv import load_dotenv, find_dotenv\n",
    "load_dotenv(find_dotenv())\n",
    "\n",
    "GASPAR_NAME = os.getenv(\"GASPAR_NAME\")\n",
    "GASPAR_PASS = os.getenv(\"GASPAR_PASS\")\n",
    "\n",
    "print(f\"Your gaspar id is {GASPAR_NAME} and your password is a secret!\")"
   ]
  },
  {
   "cell_type": "code",
   "execution_count": 2,
   "metadata": {},
   "outputs": [],
   "source": [
    "# initialize\n",
    "registrations = {}"
   ]
  },
  {
   "cell_type": "code",
   "execution_count": 3,
   "metadata": {},
   "outputs": [],
   "source": [
    "isa_base = 'https://isa.epfl.ch/imoniteur_ISAP/'\n",
    "isa_login_action = '!logins.tryToConnect'\n",
    "\n",
    "report_model = '2212045167'\n",
    "isa_reports_inscriptions_cours = '!GEDREPORTS.filter'\n",
    "isa_course_report = '!GEDREPORTS.bhtml'\n",
    "\n",
    "login_form = {\n",
    "    'ww_x_urlAppelant': 'isacademia.htm',\n",
    "    'ww_x_username': GASPAR_NAME,\n",
    "    'ww_x_password': GASPAR_PASS\n",
    "}\n",
    "\n",
    "report_data = {\n",
    "    'ww_b_list': '1',\n",
    "    'ww_i_reportmodel': report_model,\n",
    "    'ww_i_reportModelXsl': '2212045204',  # html format\n",
    "    'ww_x_MAT': '',  # course ID\n",
    "    'zz_x_PERIODE_ACAD': '',  # Période académique (<select> text)  default all\n",
    "    'ww_x_PERIODE_ACAD': ''   # Période académique (<select> value) default all\n",
    "}\n",
    "\n",
    "regex_years_end = re.compile('.+\\d{4}.\\d{4}$')\n",
    "\n",
    "\n",
    "def get_isa_course_report(x_MAT, course_name):\n",
    "    response = session.get(isa_base + isa_course_report, data=report_data, timeout=30)\n",
    "    soup = bsoup(response.text, 'html.parser')\n",
    "\n",
    "    if course_name not in registrations:\n",
    "        # sometimes the course name is duplicated\n",
    "        registrations[course_name] = {}\n",
    "\n",
    "    reg = registrations[course_name]\n",
    "\n",
    "    # select elements with info about the number of students per program, year, semester\n",
    "    colspan_2 = soup.select('tr > td[colspan=\"2\"]')\n",
    "\n",
    "    programs = []\n",
    "    semesters = []\n",
    "    \n",
    "    for el in colspan_2:\n",
    "        text = el.text\n",
    "        \n",
    "        if 'ét.' not in text:  # program name, year and semester info\n",
    "            text = text.replace('Ecole polytechnique fédérale de Lausanne, ', '')  # replace epfl prefix which occurs sometimes\n",
    "\n",
    "            if regex_years_end.match(text):\n",
    "                # edoc (phd), no semester info\n",
    "                text_split = text.rsplit(', ', maxsplit=1)\n",
    "                program = text_split[0]\n",
    "                year = text_split[1]\n",
    "                semester = ''\n",
    "            else:\n",
    "                text_split = text.rsplit(', ', maxsplit=2)\n",
    "                program = text_split[0]\n",
    "                year = text_split[1]\n",
    "                semester = text_split[2]\n",
    "\n",
    "            if year not in reg:\n",
    "                reg[year] = {}\n",
    "            \n",
    "            if program in programs:\n",
    "                idx = programs.index(program)\n",
    "                if semesters[idx] == semester:\n",
    "                    continue  # continue if the semester info is the same\n",
    "                \n",
    "                sem = semester.rsplit(maxsplit=1)[1]\n",
    "                oldsem = semesters[idx].rsplit(maxsplit=1)[1]\n",
    "                \n",
    "                try:\n",
    "                    if int(sem) > int(oldsem):\n",
    "                        semesters[idx] += (', ' + sem)  # append\n",
    "                    else:\n",
    "                        semesters[idx] = semesters[idx][:-1]\n",
    "                        semesters[idx] += (sem + ', ' + oldsem)  # prepend\n",
    "                except ValueError:\n",
    "#                     print(course_name, program, year, sem)\n",
    "                    semesters[idx] += (', ' + sem)\n",
    "                \n",
    "            else:\n",
    "                programs.append(program)\n",
    "                semesters.append(semester)\n",
    "\n",
    "#             if program not in reg:\n",
    "                # sometimes two master semesters in a row for the same program,\n",
    "                # so we only extract info from the first line\n",
    "                # For example:\n",
    "                # Bioengineering, 2019-2020, Master semester 3\n",
    "                # Bioengineering, 2019-2020, Master semester 1\n",
    "                \n",
    "#                 level = ''\n",
    "#                 if 'edoc' in program.lower():\n",
    "#                     level = 'doctoral_school'\n",
    "#                 elif 'master' in semester.lower():\n",
    "#                     level = 'master'\n",
    "#                 elif 'bachelor' in semester.lower():\n",
    "#                     level = 'bachelor'\n",
    "#                 elif 'minor' in program.lower() or 'mineur' in program.lower():\n",
    "#                     level = 'minor'\n",
    "#                 else:\n",
    "#                     the program might be a UNIL program or exchange program, for instance\n",
    "                \n",
    "#                 program_key = level + program\n",
    "#                 reg[year][program]['level'] = level\n",
    "\n",
    "        else:\n",
    "#             reg[year][program]['count'] = re.search('\\d+', text)[0]\n",
    "            # we can't use lists as keys in a dictionary/json, but string - yes!\n",
    "            programs_key = '\\n'.join(\n",
    "                list(map(\n",
    "                    lambda tup: tup[0]+', '+tup[1] if tup[1] else tup[0],\n",
    "                    zip(programs, semesters)\n",
    "                ))\n",
    "            )\n",
    "            reg[year][programs_key] = int(re.search('\\d+', text)[0])\n",
    "            programs = []\n",
    "            semesters = []"
   ]
  },
  {
   "cell_type": "code",
   "execution_count": 195,
   "metadata": {},
   "outputs": [],
   "source": [
    "# a = list(zip(['3082333', '556618501', '352250335', '1597304757', '80887096', '1597935627'], [\n",
    "#     'Design of experiments (a) - Fall semester',\n",
    "#  'Design of experiments (c) - Spring semester',\n",
    "#  'Optimization and simulation',\n",
    "#  'Machine Learning for Engineers',\n",
    "#  'Product lifecycle management - concepts methods and tools',\n",
    "#  'Topics in Autonomous Robotics']))"
   ]
  },
  {
   "cell_type": "code",
   "execution_count": 207,
   "metadata": {},
   "outputs": [],
   "source": [
    "# for k, v in a:\n",
    "#     for yr, val in registrations[v].items():\n",
    "#         if 'total' in val:\n",
    "#             print(val)"
   ]
  },
  {
   "cell_type": "code",
   "execution_count": 209,
   "metadata": {},
   "outputs": [],
   "source": [
    "# # count total for each year\n",
    "# for k, v in a:\n",
    "#     for yr, val in registrations[v].items():\n",
    "#         total = 0\n",
    "#         for programs, count in val.items():\n",
    "#             total += count\n",
    "\n",
    "#         registrations[v][yr]['total'] = total"
   ]
  },
  {
   "cell_type": "code",
   "execution_count": 214,
   "metadata": {},
   "outputs": [],
   "source": [
    "# registrations['Design of experiments (c) - Spring semester']"
   ]
  },
  {
   "cell_type": "code",
   "execution_count": 197,
   "metadata": {},
   "outputs": [],
   "source": [
    "# for c, v in registrations.items():\n",
    "#     for y, v2 in v.items():\n",
    "#         for m, v3 in v2.items():\n",
    "#             if m.endswith(', '):\n",
    "#                 v2.pop(m)\n",
    "#                 v2[m[:-2]] = v3"
   ]
  },
  {
   "cell_type": "code",
   "execution_count": 4,
   "metadata": {},
   "outputs": [
    {
     "name": "stdout",
     "output_type": "stream",
     "text": [
      "scraping 1497045288: Numerical approximation of PDE's II\n",
      "scraping 2829582199: \"The land of thousand dances\"\n",
      "scraping 1580216797: (Hi)stories of technologies : from innovation to use\n",
      "scraping 2079163482: 1st Workshop on Advances in CFD and MD modelling of Interface Dynamics in Capillary Two-Phase Flows\n",
      "scraping 2083170884: 2D Layered Materials: Synthesis, Properties and Applications\n",
      "scraping 2155744280: 2nd PhDs in Transitions Conference 2017 \"Sustainability Transitions: Theory and Practice\"\n",
      "scraping 2238685617: 2nd Workshop on Advances in Theoretical and Computational Modelling of Interface Dynamics in Capillary Two-Phase Flows\n",
      "scraping 127775050: 3D Electron Microscopy and FIB-Nanotomography\n",
      "scraping 2325959939: 3D Printing with light\n",
      "scraping 2739876452: 6th Machine learning in High Energy Physics Summer School\n",
      "scraping 1695580335: A History of Evolutionary Theory\n",
      "scraping 1951252224: A Network Tour of Data Science\n",
      "scraping 2385096462: A Political History of Urban Form\n",
      "scraping 1757665289: A city at night is beautiful\n",
      "scraping 1511072365: A guided tour for engineers in applied stochastic modelling\n",
      "scraping 2601373751: A history of abstraction in architecture\n",
      "scraping 621393213: A mind map on the line Nyon - La Cure\n",
      "scraping 2293398010: ATLAS POLIPHILO\n",
      "scraping 2041396969: Abelian and non-abelian bosonization for 1D quantum physics\n",
      "scraping 2139013190: Abstract Harmonic Analysis\n",
      "scraping 1751942569: Academic Research in Architecture: what methods, objects and theories? Group A\n",
      "scraping 1751942825: Academic Research in Architecture: what methods, objects and theories? Group B\n",
      "scraping 2077798169: Academic Writing for Doctoral Students (1)\n",
      "scraping 2406510917: Academic Writing for Doctoral Students (2)\n",
      "scraping 1776066822: Accounting for finance\n",
      "scraping 228384077: Acoustic Hydrodynamic\n",
      "scraping 241601186: Acoustic waves and radiation\n",
      "scraping 51647587: Acoustic waves and radiation\n",
      "scraping 321157184: Acoustics and mobility\n",
      "scraping 2337969814: Acquisition of environmental geo-data\n",
      "scraping 412899812: Active Remote Sensing of the Atmosphere\n",
      "scraping 241589118: Active noise control\n",
      "scraping 2226230: Actuator control by way of a microprocessor\n",
      "scraping 2717378183: Actuators and Electromagnetic systems I\n",
      "scraping 2717378359: Actuators and Electromagnetic systems II\n",
      "scraping 2240862721: Adaptation and Learning\n",
      "scraping 2083245379: Additive Combinatorics\n",
      "scraping 2663079392: Additive Manufacturing of Metals and Alloys\n",
      "scraping 2549982564: Advanced Accelerator Concepts\n",
      "scraping 1597303540: Advanced Biometrics\n",
      "scraping 228378950: Advanced Control Systems\n",
      "scraping 238465517: Advanced Course in Combinatorial Geometry & Optimization I (2013)\n",
      "scraping 238472370: Advanced Course in Combinatorial Geometry & Optimization II (2013)\n",
      "scraping 375757152: Advanced EDA TP\n",
      "scraping 412889024: Advanced Earthquake Engineering\n",
      "scraping 128846720: Advanced Fossil and Renewable Energy Systems\n",
      "scraping 662225511: Advanced Game Theory and Behavioral Economics\n",
      "scraping 2053546348: Advanced MEMS\n",
      "scraping 937846233: Advanced MEMS & microsystems\n",
      "scraping 2552622813: Advanced Methods for Model Identification\n",
      "scraping 965855418: Advanced Microscopy for Life Science\n",
      "scraping 1770748: Advanced NMR and imaging\n",
      "scraping 2555916541: Advanced Nuclear magnetic resonance\n",
      "scraping 400767499: Advanced Qt programming for Maemo platforms\n",
      "scraping 113368068: Advanced Quantum Field Theory\n",
      "scraping 2402303093: Advanced Solid State and Surface Characterization\n",
      "scraping 52156761: Advanced Stem Cell Biology (2013)\n",
      "scraping 1871547188: Advanced Topics in Algorithmic Game Theory and Mechanism Design\n",
      "scraping 2195705609: Advanced Topics in Computational Science for Multiphysics Problems (2018)\n",
      "scraping 80649425: Advanced Topics in Cryptology\n",
      "scraping 1945998185: Advanced Topics in Data Sciences\n",
      "scraping 238861829: Advanced Topics in Distributed Systems\n",
      "scraping 411916691: Advanced Topics in Environmental Organic Chemistry\n",
      "scraping 1807127785: Advanced Topics in Group Theory (2015)\n",
      "scraping 625106671: Advanced Topics in Human Computer Interaction: the Case of Recommender Systems\n",
      "scraping 2681414320: Advanced Topics in Information Theory\n",
      "scraping 2240862557: Advanced Topics in Machine Learning\n",
      "scraping 272164248: Advanced Topics in Mathematical Finance\n",
      "scraping 129191925: Advanced Topics in Memory Systems\n",
      "scraping 238861623: Advanced Topics in Networked Systems\n",
      "scraping 238860009: Advanced Topics in Operating Systems\n",
      "scraping 2329315270: Advanced Topics in Quantum Sciences and Technologies\n",
      "scraping 238861407: Advanced Topics in Software Systems\n",
      "scraping 1853776231: Advanced Topics in Statistics of Extremes (2015)\n",
      "scraping 280335660: Advanced Topics in Storage Systems\n"
     ]
    },
    {
     "ename": "KeyboardInterrupt",
     "evalue": "",
     "output_type": "error",
     "traceback": [
      "\u001b[1;31m---------------------------------------------------------------------------\u001b[0m",
      "\u001b[1;31mKeyboardInterrupt\u001b[0m                         Traceback (most recent call last)",
      "\u001b[1;32m<ipython-input-4-895a1d46e030>\u001b[0m in \u001b[0;36m<module>\u001b[1;34m\u001b[0m\n\u001b[0;32m     16\u001b[0m \u001b[1;33m\u001b[0m\u001b[0m\n\u001b[0;32m     17\u001b[0m         \u001b[1;32mtry\u001b[0m\u001b[1;33m:\u001b[0m\u001b[1;33m\u001b[0m\u001b[1;33m\u001b[0m\u001b[0m\n\u001b[1;32m---> 18\u001b[1;33m             \u001b[0mget_isa_course_report\u001b[0m\u001b[1;33m(\u001b[0m\u001b[0mx_MAT\u001b[0m\u001b[1;33m,\u001b[0m \u001b[0mcourse_name\u001b[0m\u001b[1;33m)\u001b[0m\u001b[1;33m\u001b[0m\u001b[1;33m\u001b[0m\u001b[0m\n\u001b[0m\u001b[0;32m     19\u001b[0m         \u001b[1;32mexcept\u001b[0m \u001b[0mrequests\u001b[0m\u001b[1;33m.\u001b[0m\u001b[0mexceptions\u001b[0m\u001b[1;33m.\u001b[0m\u001b[0mTimeout\u001b[0m\u001b[1;33m:\u001b[0m\u001b[1;33m\u001b[0m\u001b[1;33m\u001b[0m\u001b[0m\n\u001b[0;32m     20\u001b[0m             \u001b[0mww_x_MAT_timeouts\u001b[0m\u001b[1;33m.\u001b[0m\u001b[0mappend\u001b[0m\u001b[1;33m(\u001b[0m\u001b[1;33m(\u001b[0m\u001b[0mx_MAT\u001b[0m\u001b[1;33m,\u001b[0m \u001b[0mcourse_name\u001b[0m\u001b[1;33m)\u001b[0m\u001b[1;33m)\u001b[0m\u001b[1;33m\u001b[0m\u001b[1;33m\u001b[0m\u001b[0m\n",
      "\u001b[1;32m<ipython-input-3-d5ac8a154fb2>\u001b[0m in \u001b[0;36mget_isa_course_report\u001b[1;34m(x_MAT, course_name)\u001b[0m\n\u001b[0;32m     25\u001b[0m \u001b[1;33m\u001b[0m\u001b[0m\n\u001b[0;32m     26\u001b[0m \u001b[1;32mdef\u001b[0m \u001b[0mget_isa_course_report\u001b[0m\u001b[1;33m(\u001b[0m\u001b[0mx_MAT\u001b[0m\u001b[1;33m,\u001b[0m \u001b[0mcourse_name\u001b[0m\u001b[1;33m)\u001b[0m\u001b[1;33m:\u001b[0m\u001b[1;33m\u001b[0m\u001b[1;33m\u001b[0m\u001b[0m\n\u001b[1;32m---> 27\u001b[1;33m     \u001b[0mresponse\u001b[0m \u001b[1;33m=\u001b[0m \u001b[0msession\u001b[0m\u001b[1;33m.\u001b[0m\u001b[0mget\u001b[0m\u001b[1;33m(\u001b[0m\u001b[0misa_base\u001b[0m \u001b[1;33m+\u001b[0m \u001b[0misa_course_report\u001b[0m\u001b[1;33m,\u001b[0m \u001b[0mdata\u001b[0m\u001b[1;33m=\u001b[0m\u001b[0mreport_data\u001b[0m\u001b[1;33m,\u001b[0m \u001b[0mtimeout\u001b[0m\u001b[1;33m=\u001b[0m\u001b[1;36m30\u001b[0m\u001b[1;33m)\u001b[0m\u001b[1;33m\u001b[0m\u001b[1;33m\u001b[0m\u001b[0m\n\u001b[0m\u001b[0;32m     28\u001b[0m     \u001b[0msoup\u001b[0m \u001b[1;33m=\u001b[0m \u001b[0mbsoup\u001b[0m\u001b[1;33m(\u001b[0m\u001b[0mresponse\u001b[0m\u001b[1;33m.\u001b[0m\u001b[0mtext\u001b[0m\u001b[1;33m,\u001b[0m \u001b[1;34m'html.parser'\u001b[0m\u001b[1;33m)\u001b[0m\u001b[1;33m\u001b[0m\u001b[1;33m\u001b[0m\u001b[0m\n\u001b[0;32m     29\u001b[0m \u001b[1;33m\u001b[0m\u001b[0m\n",
      "\u001b[1;32m~\\AppData\\Local\\Packages\\PythonSoftwareFoundation.Python.3.8_qbz5n2kfra8p0\\LocalCache\\local-packages\\Python38\\site-packages\\requests\\sessions.py\u001b[0m in \u001b[0;36mget\u001b[1;34m(self, url, **kwargs)\u001b[0m\n\u001b[0;32m    541\u001b[0m \u001b[1;33m\u001b[0m\u001b[0m\n\u001b[0;32m    542\u001b[0m         \u001b[0mkwargs\u001b[0m\u001b[1;33m.\u001b[0m\u001b[0msetdefault\u001b[0m\u001b[1;33m(\u001b[0m\u001b[1;34m'allow_redirects'\u001b[0m\u001b[1;33m,\u001b[0m \u001b[1;32mTrue\u001b[0m\u001b[1;33m)\u001b[0m\u001b[1;33m\u001b[0m\u001b[1;33m\u001b[0m\u001b[0m\n\u001b[1;32m--> 543\u001b[1;33m         \u001b[1;32mreturn\u001b[0m \u001b[0mself\u001b[0m\u001b[1;33m.\u001b[0m\u001b[0mrequest\u001b[0m\u001b[1;33m(\u001b[0m\u001b[1;34m'GET'\u001b[0m\u001b[1;33m,\u001b[0m \u001b[0murl\u001b[0m\u001b[1;33m,\u001b[0m \u001b[1;33m**\u001b[0m\u001b[0mkwargs\u001b[0m\u001b[1;33m)\u001b[0m\u001b[1;33m\u001b[0m\u001b[1;33m\u001b[0m\u001b[0m\n\u001b[0m\u001b[0;32m    544\u001b[0m \u001b[1;33m\u001b[0m\u001b[0m\n\u001b[0;32m    545\u001b[0m     \u001b[1;32mdef\u001b[0m \u001b[0moptions\u001b[0m\u001b[1;33m(\u001b[0m\u001b[0mself\u001b[0m\u001b[1;33m,\u001b[0m \u001b[0murl\u001b[0m\u001b[1;33m,\u001b[0m \u001b[1;33m**\u001b[0m\u001b[0mkwargs\u001b[0m\u001b[1;33m)\u001b[0m\u001b[1;33m:\u001b[0m\u001b[1;33m\u001b[0m\u001b[1;33m\u001b[0m\u001b[0m\n",
      "\u001b[1;32m~\\AppData\\Local\\Packages\\PythonSoftwareFoundation.Python.3.8_qbz5n2kfra8p0\\LocalCache\\local-packages\\Python38\\site-packages\\requests\\sessions.py\u001b[0m in \u001b[0;36mrequest\u001b[1;34m(self, method, url, params, data, headers, cookies, files, auth, timeout, allow_redirects, proxies, hooks, stream, verify, cert, json)\u001b[0m\n\u001b[0;32m    528\u001b[0m         }\n\u001b[0;32m    529\u001b[0m         \u001b[0msend_kwargs\u001b[0m\u001b[1;33m.\u001b[0m\u001b[0mupdate\u001b[0m\u001b[1;33m(\u001b[0m\u001b[0msettings\u001b[0m\u001b[1;33m)\u001b[0m\u001b[1;33m\u001b[0m\u001b[1;33m\u001b[0m\u001b[0m\n\u001b[1;32m--> 530\u001b[1;33m         \u001b[0mresp\u001b[0m \u001b[1;33m=\u001b[0m \u001b[0mself\u001b[0m\u001b[1;33m.\u001b[0m\u001b[0msend\u001b[0m\u001b[1;33m(\u001b[0m\u001b[0mprep\u001b[0m\u001b[1;33m,\u001b[0m \u001b[1;33m**\u001b[0m\u001b[0msend_kwargs\u001b[0m\u001b[1;33m)\u001b[0m\u001b[1;33m\u001b[0m\u001b[1;33m\u001b[0m\u001b[0m\n\u001b[0m\u001b[0;32m    531\u001b[0m \u001b[1;33m\u001b[0m\u001b[0m\n\u001b[0;32m    532\u001b[0m         \u001b[1;32mreturn\u001b[0m \u001b[0mresp\u001b[0m\u001b[1;33m\u001b[0m\u001b[1;33m\u001b[0m\u001b[0m\n",
      "\u001b[1;32m~\\AppData\\Local\\Packages\\PythonSoftwareFoundation.Python.3.8_qbz5n2kfra8p0\\LocalCache\\local-packages\\Python38\\site-packages\\requests\\sessions.py\u001b[0m in \u001b[0;36msend\u001b[1;34m(self, request, **kwargs)\u001b[0m\n\u001b[0;32m    641\u001b[0m \u001b[1;33m\u001b[0m\u001b[0m\n\u001b[0;32m    642\u001b[0m         \u001b[1;31m# Send the request\u001b[0m\u001b[1;33m\u001b[0m\u001b[1;33m\u001b[0m\u001b[1;33m\u001b[0m\u001b[0m\n\u001b[1;32m--> 643\u001b[1;33m         \u001b[0mr\u001b[0m \u001b[1;33m=\u001b[0m \u001b[0madapter\u001b[0m\u001b[1;33m.\u001b[0m\u001b[0msend\u001b[0m\u001b[1;33m(\u001b[0m\u001b[0mrequest\u001b[0m\u001b[1;33m,\u001b[0m \u001b[1;33m**\u001b[0m\u001b[0mkwargs\u001b[0m\u001b[1;33m)\u001b[0m\u001b[1;33m\u001b[0m\u001b[1;33m\u001b[0m\u001b[0m\n\u001b[0m\u001b[0;32m    644\u001b[0m \u001b[1;33m\u001b[0m\u001b[0m\n\u001b[0;32m    645\u001b[0m         \u001b[1;31m# Total elapsed time of the request (approximately)\u001b[0m\u001b[1;33m\u001b[0m\u001b[1;33m\u001b[0m\u001b[1;33m\u001b[0m\u001b[0m\n",
      "\u001b[1;32m~\\AppData\\Local\\Packages\\PythonSoftwareFoundation.Python.3.8_qbz5n2kfra8p0\\LocalCache\\local-packages\\Python38\\site-packages\\requests\\adapters.py\u001b[0m in \u001b[0;36msend\u001b[1;34m(self, request, stream, timeout, verify, cert, proxies)\u001b[0m\n\u001b[0;32m    437\u001b[0m         \u001b[1;32mtry\u001b[0m\u001b[1;33m:\u001b[0m\u001b[1;33m\u001b[0m\u001b[1;33m\u001b[0m\u001b[0m\n\u001b[0;32m    438\u001b[0m             \u001b[1;32mif\u001b[0m \u001b[1;32mnot\u001b[0m \u001b[0mchunked\u001b[0m\u001b[1;33m:\u001b[0m\u001b[1;33m\u001b[0m\u001b[1;33m\u001b[0m\u001b[0m\n\u001b[1;32m--> 439\u001b[1;33m                 resp = conn.urlopen(\n\u001b[0m\u001b[0;32m    440\u001b[0m                     \u001b[0mmethod\u001b[0m\u001b[1;33m=\u001b[0m\u001b[0mrequest\u001b[0m\u001b[1;33m.\u001b[0m\u001b[0mmethod\u001b[0m\u001b[1;33m,\u001b[0m\u001b[1;33m\u001b[0m\u001b[1;33m\u001b[0m\u001b[0m\n\u001b[0;32m    441\u001b[0m                     \u001b[0murl\u001b[0m\u001b[1;33m=\u001b[0m\u001b[0murl\u001b[0m\u001b[1;33m,\u001b[0m\u001b[1;33m\u001b[0m\u001b[1;33m\u001b[0m\u001b[0m\n",
      "\u001b[1;32m~\\AppData\\Local\\Packages\\PythonSoftwareFoundation.Python.3.8_qbz5n2kfra8p0\\LocalCache\\local-packages\\Python38\\site-packages\\urllib3\\connectionpool.py\u001b[0m in \u001b[0;36murlopen\u001b[1;34m(self, method, url, body, headers, retries, redirect, assert_same_host, timeout, pool_timeout, release_conn, chunked, body_pos, **response_kw)\u001b[0m\n\u001b[0;32m    668\u001b[0m \u001b[1;33m\u001b[0m\u001b[0m\n\u001b[0;32m    669\u001b[0m             \u001b[1;31m# Make the request on the httplib connection object.\u001b[0m\u001b[1;33m\u001b[0m\u001b[1;33m\u001b[0m\u001b[1;33m\u001b[0m\u001b[0m\n\u001b[1;32m--> 670\u001b[1;33m             httplib_response = self._make_request(\n\u001b[0m\u001b[0;32m    671\u001b[0m                 \u001b[0mconn\u001b[0m\u001b[1;33m,\u001b[0m\u001b[1;33m\u001b[0m\u001b[1;33m\u001b[0m\u001b[0m\n\u001b[0;32m    672\u001b[0m                 \u001b[0mmethod\u001b[0m\u001b[1;33m,\u001b[0m\u001b[1;33m\u001b[0m\u001b[1;33m\u001b[0m\u001b[0m\n",
      "\u001b[1;32m~\\AppData\\Local\\Packages\\PythonSoftwareFoundation.Python.3.8_qbz5n2kfra8p0\\LocalCache\\local-packages\\Python38\\site-packages\\urllib3\\connectionpool.py\u001b[0m in \u001b[0;36m_make_request\u001b[1;34m(self, conn, method, url, timeout, chunked, **httplib_request_kw)\u001b[0m\n\u001b[0;32m    379\u001b[0m         \u001b[1;31m# Trigger any extra validation we need to do.\u001b[0m\u001b[1;33m\u001b[0m\u001b[1;33m\u001b[0m\u001b[1;33m\u001b[0m\u001b[0m\n\u001b[0;32m    380\u001b[0m         \u001b[1;32mtry\u001b[0m\u001b[1;33m:\u001b[0m\u001b[1;33m\u001b[0m\u001b[1;33m\u001b[0m\u001b[0m\n\u001b[1;32m--> 381\u001b[1;33m             \u001b[0mself\u001b[0m\u001b[1;33m.\u001b[0m\u001b[0m_validate_conn\u001b[0m\u001b[1;33m(\u001b[0m\u001b[0mconn\u001b[0m\u001b[1;33m)\u001b[0m\u001b[1;33m\u001b[0m\u001b[1;33m\u001b[0m\u001b[0m\n\u001b[0m\u001b[0;32m    382\u001b[0m         \u001b[1;32mexcept\u001b[0m \u001b[1;33m(\u001b[0m\u001b[0mSocketTimeout\u001b[0m\u001b[1;33m,\u001b[0m \u001b[0mBaseSSLError\u001b[0m\u001b[1;33m)\u001b[0m \u001b[1;32mas\u001b[0m \u001b[0me\u001b[0m\u001b[1;33m:\u001b[0m\u001b[1;33m\u001b[0m\u001b[1;33m\u001b[0m\u001b[0m\n\u001b[0;32m    383\u001b[0m             \u001b[1;31m# Py2 raises this as a BaseSSLError, Py3 raises it as socket timeout.\u001b[0m\u001b[1;33m\u001b[0m\u001b[1;33m\u001b[0m\u001b[1;33m\u001b[0m\u001b[0m\n",
      "\u001b[1;32m~\\AppData\\Local\\Packages\\PythonSoftwareFoundation.Python.3.8_qbz5n2kfra8p0\\LocalCache\\local-packages\\Python38\\site-packages\\urllib3\\connectionpool.py\u001b[0m in \u001b[0;36m_validate_conn\u001b[1;34m(self, conn)\u001b[0m\n\u001b[0;32m    976\u001b[0m         \u001b[1;31m# Force connect early to allow us to validate the connection.\u001b[0m\u001b[1;33m\u001b[0m\u001b[1;33m\u001b[0m\u001b[1;33m\u001b[0m\u001b[0m\n\u001b[0;32m    977\u001b[0m         \u001b[1;32mif\u001b[0m \u001b[1;32mnot\u001b[0m \u001b[0mgetattr\u001b[0m\u001b[1;33m(\u001b[0m\u001b[0mconn\u001b[0m\u001b[1;33m,\u001b[0m \u001b[1;34m\"sock\"\u001b[0m\u001b[1;33m,\u001b[0m \u001b[1;32mNone\u001b[0m\u001b[1;33m)\u001b[0m\u001b[1;33m:\u001b[0m  \u001b[1;31m# AppEngine might not have  `.sock`\u001b[0m\u001b[1;33m\u001b[0m\u001b[1;33m\u001b[0m\u001b[0m\n\u001b[1;32m--> 978\u001b[1;33m             \u001b[0mconn\u001b[0m\u001b[1;33m.\u001b[0m\u001b[0mconnect\u001b[0m\u001b[1;33m(\u001b[0m\u001b[1;33m)\u001b[0m\u001b[1;33m\u001b[0m\u001b[1;33m\u001b[0m\u001b[0m\n\u001b[0m\u001b[0;32m    979\u001b[0m \u001b[1;33m\u001b[0m\u001b[0m\n\u001b[0;32m    980\u001b[0m         \u001b[1;32mif\u001b[0m \u001b[1;32mnot\u001b[0m \u001b[0mconn\u001b[0m\u001b[1;33m.\u001b[0m\u001b[0mis_verified\u001b[0m\u001b[1;33m:\u001b[0m\u001b[1;33m\u001b[0m\u001b[1;33m\u001b[0m\u001b[0m\n",
      "\u001b[1;32m~\\AppData\\Local\\Packages\\PythonSoftwareFoundation.Python.3.8_qbz5n2kfra8p0\\LocalCache\\local-packages\\Python38\\site-packages\\urllib3\\connection.py\u001b[0m in \u001b[0;36mconnect\u001b[1;34m(self)\u001b[0m\n\u001b[0;32m    360\u001b[0m             \u001b[0mcontext\u001b[0m\u001b[1;33m.\u001b[0m\u001b[0mload_default_certs\u001b[0m\u001b[1;33m(\u001b[0m\u001b[1;33m)\u001b[0m\u001b[1;33m\u001b[0m\u001b[1;33m\u001b[0m\u001b[0m\n\u001b[0;32m    361\u001b[0m \u001b[1;33m\u001b[0m\u001b[0m\n\u001b[1;32m--> 362\u001b[1;33m         self.sock = ssl_wrap_socket(\n\u001b[0m\u001b[0;32m    363\u001b[0m             \u001b[0msock\u001b[0m\u001b[1;33m=\u001b[0m\u001b[0mconn\u001b[0m\u001b[1;33m,\u001b[0m\u001b[1;33m\u001b[0m\u001b[1;33m\u001b[0m\u001b[0m\n\u001b[0;32m    364\u001b[0m             \u001b[0mkeyfile\u001b[0m\u001b[1;33m=\u001b[0m\u001b[0mself\u001b[0m\u001b[1;33m.\u001b[0m\u001b[0mkey_file\u001b[0m\u001b[1;33m,\u001b[0m\u001b[1;33m\u001b[0m\u001b[1;33m\u001b[0m\u001b[0m\n",
      "\u001b[1;32m~\\AppData\\Local\\Packages\\PythonSoftwareFoundation.Python.3.8_qbz5n2kfra8p0\\LocalCache\\local-packages\\Python38\\site-packages\\urllib3\\util\\ssl_.py\u001b[0m in \u001b[0;36mssl_wrap_socket\u001b[1;34m(sock, keyfile, certfile, cert_reqs, ca_certs, server_hostname, ssl_version, ciphers, ssl_context, ca_cert_dir, key_password, ca_cert_data)\u001b[0m\n\u001b[0;32m    382\u001b[0m     ) or IS_SECURETRANSPORT:\n\u001b[0;32m    383\u001b[0m         \u001b[1;32mif\u001b[0m \u001b[0mHAS_SNI\u001b[0m \u001b[1;32mand\u001b[0m \u001b[0mserver_hostname\u001b[0m \u001b[1;32mis\u001b[0m \u001b[1;32mnot\u001b[0m \u001b[1;32mNone\u001b[0m\u001b[1;33m:\u001b[0m\u001b[1;33m\u001b[0m\u001b[1;33m\u001b[0m\u001b[0m\n\u001b[1;32m--> 384\u001b[1;33m             \u001b[1;32mreturn\u001b[0m \u001b[0mcontext\u001b[0m\u001b[1;33m.\u001b[0m\u001b[0mwrap_socket\u001b[0m\u001b[1;33m(\u001b[0m\u001b[0msock\u001b[0m\u001b[1;33m,\u001b[0m \u001b[0mserver_hostname\u001b[0m\u001b[1;33m=\u001b[0m\u001b[0mserver_hostname\u001b[0m\u001b[1;33m)\u001b[0m\u001b[1;33m\u001b[0m\u001b[1;33m\u001b[0m\u001b[0m\n\u001b[0m\u001b[0;32m    385\u001b[0m \u001b[1;33m\u001b[0m\u001b[0m\n\u001b[0;32m    386\u001b[0m         warnings.warn(\n",
      "\u001b[1;32mC:\\Program Files\\WindowsApps\\PythonSoftwareFoundation.Python.3.8_3.8.1776.0_x64__qbz5n2kfra8p0\\lib\\ssl.py\u001b[0m in \u001b[0;36mwrap_socket\u001b[1;34m(self, sock, server_side, do_handshake_on_connect, suppress_ragged_eofs, server_hostname, session)\u001b[0m\n\u001b[0;32m    498\u001b[0m         \u001b[1;31m# SSLSocket class handles server_hostname encoding before it calls\u001b[0m\u001b[1;33m\u001b[0m\u001b[1;33m\u001b[0m\u001b[1;33m\u001b[0m\u001b[0m\n\u001b[0;32m    499\u001b[0m         \u001b[1;31m# ctx._wrap_socket()\u001b[0m\u001b[1;33m\u001b[0m\u001b[1;33m\u001b[0m\u001b[1;33m\u001b[0m\u001b[0m\n\u001b[1;32m--> 500\u001b[1;33m         return self.sslsocket_class._create(\n\u001b[0m\u001b[0;32m    501\u001b[0m             \u001b[0msock\u001b[0m\u001b[1;33m=\u001b[0m\u001b[0msock\u001b[0m\u001b[1;33m,\u001b[0m\u001b[1;33m\u001b[0m\u001b[1;33m\u001b[0m\u001b[0m\n\u001b[0;32m    502\u001b[0m             \u001b[0mserver_side\u001b[0m\u001b[1;33m=\u001b[0m\u001b[0mserver_side\u001b[0m\u001b[1;33m,\u001b[0m\u001b[1;33m\u001b[0m\u001b[1;33m\u001b[0m\u001b[0m\n",
      "\u001b[1;32mC:\\Program Files\\WindowsApps\\PythonSoftwareFoundation.Python.3.8_3.8.1776.0_x64__qbz5n2kfra8p0\\lib\\ssl.py\u001b[0m in \u001b[0;36m_create\u001b[1;34m(cls, sock, server_side, do_handshake_on_connect, suppress_ragged_eofs, server_hostname, context, session)\u001b[0m\n\u001b[0;32m   1038\u001b[0m                         \u001b[1;31m# non-blocking\u001b[0m\u001b[1;33m\u001b[0m\u001b[1;33m\u001b[0m\u001b[1;33m\u001b[0m\u001b[0m\n\u001b[0;32m   1039\u001b[0m                         \u001b[1;32mraise\u001b[0m \u001b[0mValueError\u001b[0m\u001b[1;33m(\u001b[0m\u001b[1;34m\"do_handshake_on_connect should not be specified for non-blocking sockets\"\u001b[0m\u001b[1;33m)\u001b[0m\u001b[1;33m\u001b[0m\u001b[1;33m\u001b[0m\u001b[0m\n\u001b[1;32m-> 1040\u001b[1;33m                     \u001b[0mself\u001b[0m\u001b[1;33m.\u001b[0m\u001b[0mdo_handshake\u001b[0m\u001b[1;33m(\u001b[0m\u001b[1;33m)\u001b[0m\u001b[1;33m\u001b[0m\u001b[1;33m\u001b[0m\u001b[0m\n\u001b[0m\u001b[0;32m   1041\u001b[0m             \u001b[1;32mexcept\u001b[0m \u001b[1;33m(\u001b[0m\u001b[0mOSError\u001b[0m\u001b[1;33m,\u001b[0m \u001b[0mValueError\u001b[0m\u001b[1;33m)\u001b[0m\u001b[1;33m:\u001b[0m\u001b[1;33m\u001b[0m\u001b[1;33m\u001b[0m\u001b[0m\n\u001b[0;32m   1042\u001b[0m                 \u001b[0mself\u001b[0m\u001b[1;33m.\u001b[0m\u001b[0mclose\u001b[0m\u001b[1;33m(\u001b[0m\u001b[1;33m)\u001b[0m\u001b[1;33m\u001b[0m\u001b[1;33m\u001b[0m\u001b[0m\n",
      "\u001b[1;32mC:\\Program Files\\WindowsApps\\PythonSoftwareFoundation.Python.3.8_3.8.1776.0_x64__qbz5n2kfra8p0\\lib\\ssl.py\u001b[0m in \u001b[0;36mdo_handshake\u001b[1;34m(self, block)\u001b[0m\n\u001b[0;32m   1307\u001b[0m             \u001b[1;32mif\u001b[0m \u001b[0mtimeout\u001b[0m \u001b[1;33m==\u001b[0m \u001b[1;36m0.0\u001b[0m \u001b[1;32mand\u001b[0m \u001b[0mblock\u001b[0m\u001b[1;33m:\u001b[0m\u001b[1;33m\u001b[0m\u001b[1;33m\u001b[0m\u001b[0m\n\u001b[0;32m   1308\u001b[0m                 \u001b[0mself\u001b[0m\u001b[1;33m.\u001b[0m\u001b[0msettimeout\u001b[0m\u001b[1;33m(\u001b[0m\u001b[1;32mNone\u001b[0m\u001b[1;33m)\u001b[0m\u001b[1;33m\u001b[0m\u001b[1;33m\u001b[0m\u001b[0m\n\u001b[1;32m-> 1309\u001b[1;33m             \u001b[0mself\u001b[0m\u001b[1;33m.\u001b[0m\u001b[0m_sslobj\u001b[0m\u001b[1;33m.\u001b[0m\u001b[0mdo_handshake\u001b[0m\u001b[1;33m(\u001b[0m\u001b[1;33m)\u001b[0m\u001b[1;33m\u001b[0m\u001b[1;33m\u001b[0m\u001b[0m\n\u001b[0m\u001b[0;32m   1310\u001b[0m         \u001b[1;32mfinally\u001b[0m\u001b[1;33m:\u001b[0m\u001b[1;33m\u001b[0m\u001b[1;33m\u001b[0m\u001b[0m\n\u001b[0;32m   1311\u001b[0m             \u001b[0mself\u001b[0m\u001b[1;33m.\u001b[0m\u001b[0msettimeout\u001b[0m\u001b[1;33m(\u001b[0m\u001b[0mtimeout\u001b[0m\u001b[1;33m)\u001b[0m\u001b[1;33m\u001b[0m\u001b[1;33m\u001b[0m\u001b[0m\n",
      "\u001b[1;31mKeyboardInterrupt\u001b[0m: "
     ]
    }
   ],
   "source": [
    "with requests.session() as session:\n",
    "    session.post(isa_base + isa_login_action, data=login_form)\n",
    "    response = session.get(isa_base + isa_reports_inscriptions_cours, data=report_data)\n",
    "    soup = bsoup(response.text, 'html.parser')\n",
    "    \n",
    "    # get all ids and course names below\n",
    "    # \"Cliquez sur une des matières pour avoir les inscriptions\"\n",
    "    ww_x_MAT = [[link.get('onclick')[32:-42], link.text.strip()] for link in soup.find_all(class_='ww_x_MAT')]\n",
    "    \n",
    "    ww_x_MAT_timeouts = []\n",
    "\n",
    "    # loop over course ids and names\n",
    "    for x_MAT, course_name in ww_x_MAT:\n",
    "        print(f\"scraping {x_MAT}: {course_name}\")\n",
    "        report_data['ww_x_MAT'] = x_MAT\n",
    "        \n",
    "        try:\n",
    "            get_isa_course_report(x_MAT, course_name)\n",
    "        except requests.exceptions.Timeout:\n",
    "            ww_x_MAT_timeouts.append((x_MAT, course_name))\n",
    "            continue\n",
    "            "
   ]
  },
  {
   "cell_type": "code",
   "execution_count": 98,
   "metadata": {},
   "outputs": [
    {
     "data": {
      "text/plain": [
       "['Analysis I',\n",
       " 'Analysis II',\n",
       " 'Analysis III',\n",
       " 'Analysis IV',\n",
       " 'Computer-aided engineering I',\n",
       " 'General chemistry',\n",
       " 'General chemistry I (For MEU)',\n",
       " 'General physics I',\n",
       " 'General physics II',\n",
       " 'General physics III',\n",
       " 'Geometry',\n",
       " 'Information, Computation, Communication',\n",
       " 'Linear Algebra',\n",
       " 'Numerical analysis',\n",
       " 'Probabilities and statistics']"
      ]
     },
     "execution_count": 98,
     "metadata": {},
     "output_type": "execute_result"
    }
   ],
   "source": [
    "[t[1] for t in ww_x_MAT_timeouts]"
   ]
  },
  {
   "cell_type": "code",
   "execution_count": 99,
   "metadata": {},
   "outputs": [
    {
     "name": "stdout",
     "output_type": "stream",
     "text": [
      "scraping 1705590: Analysis I\n",
      "scraping 1705597: Analysis II\n",
      "scraping 1772230: Analysis III\n",
      "scraping 1772235: Analysis IV\n",
      "scraping 1705560: Computer-aided engineering I\n",
      "scraping 1772517: General chemistry\n",
      "scraping 1772537: General chemistry I (For MEU)\n",
      "scraping 1775427: General physics I\n",
      "scraping 1775437: General physics II\n",
      "scraping 1775452: General physics III\n",
      "scraping 1773777: Geometry\n",
      "scraping 1657719952: Information, Computation, Communication\n",
      "scraping 1772095: Linear Algebra\n",
      "scraping 1179245: Numerical analysis\n",
      "scraping 1775642: Probabilities and statistics\n"
     ]
    }
   ],
   "source": [
    "# Some requests timed out, so we need to narrow our search down to each academic year\n",
    "# for these particular courses\n",
    "\n",
    "# value-text pairs for <select name='ww_x_PERIODE_ACAD'>\n",
    "ww_x_PERIODE_ACAD = {\n",
    "    '1866895046': '2020-2021'\n",
    "    '1866894985': '2019-2020',\n",
    "    '1866893861': '2018-2019',\n",
    "    '762820622': '2017-2018',\n",
    "    '355925344': '2016-2017',\n",
    "    '213638028': '2015-2016',\n",
    "    '213637922': '2014-2015',\n",
    "    '213637754': '2013-2014',\n",
    "    '123456101': '2012-2013'\n",
    "}\n",
    "\n",
    "for x_MAT, course_name in ww_x_MAT_timeouts:\n",
    "    print(f\"scraping {x_MAT}: {course_name}\")\n",
    "    report_data['ww_x_MAT'] = x_MAT\n",
    "    \n",
    "    # loop over each academic year\n",
    "    for key, value in ww_x_PERIODE_ACAD.items():\n",
    "        report_data['zz_x_PERIODE_ACAD'] = value\n",
    "        report_data['ww_x_PERIODE_ACAD'] = key\n",
    "    \n",
    "        # code below is copy-pasted\n",
    "        try:\n",
    "            get_isa_course_report(x_MAT, course_name)\n",
    "        except requests.exceptions.Timeout:\n",
    "            timeouts.append((x_MAT, course_name))\n",
    "            continue"
   ]
  },
  {
   "cell_type": "code",
   "execution_count": 127,
   "metadata": {},
   "outputs": [],
   "source": [
    "# count total for each year\n",
    "for course_name, course in registrations.items():\n",
    "    for year, counts in course.items():\n",
    "        total = 0\n",
    "        for programs, count in counts.items():\n",
    "            total += count\n",
    "\n",
    "        registrations[course_name][year]['total'] = total"
   ]
  },
  {
   "cell_type": "code",
   "execution_count": 215,
   "metadata": {},
   "outputs": [],
   "source": [
    "with open(\"../data/raw/isa_registrations.json\", \"w\") as f:\n",
    "    print(json.dumps(registrations), file=f)"
   ]
  },
  {
   "cell_type": "code",
   "execution_count": 216,
   "metadata": {},
   "outputs": [
    {
     "name": "stdout",
     "output_type": "stream",
     "text": [
      "Number of distinct courses: 4553\n"
     ]
    }
   ],
   "source": [
    "print(\"Number of distinct courses:\", len(registrations))"
   ]
  },
  {
   "cell_type": "code",
   "execution_count": null,
   "metadata": {},
   "outputs": [],
   "source": []
  }
 ],
 "metadata": {
  "kernelspec": {
   "display_name": "Python 3",
   "language": "python",
   "name": "python3"
  },
  "language_info": {
   "codemirror_mode": {
    "name": "ipython",
    "version": 3
   },
   "file_extension": ".py",
   "mimetype": "text/x-python",
   "name": "python",
   "nbconvert_exporter": "python",
   "pygments_lexer": "ipython3",
   "version": "3.9.1"
  }
 },
 "nbformat": 4,
 "nbformat_minor": 4
}
