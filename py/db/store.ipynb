{
 "cells": [
  {
   "cell_type": "code",
   "execution_count": 1,
   "metadata": {},
   "outputs": [],
   "source": [
    "import json\n",
    "import copy\n",
    "import redis\n",
    "from os import getenv\n",
    "from utils import read, write"
   ]
  },
  {
   "cell_type": "code",
   "execution_count": 2,
   "metadata": {},
   "outputs": [],
   "source": [
    "epfl = read.read_json_processed('epfl')\n",
    "courses = read.read_json_processed('courses')\n",
    "links = read.read_json('req-links', 'labelled')\n",
    "\n",
    "# filter out links that reference courses\n",
    "# that are not there any more\n",
    "courseslugs = epfl['courses']\n",
    "links = [\n",
    "    l for l in links\n",
    "    if l['source'] in courseslugs and l['target'] in courseslugs\n",
    "]"
   ]
  },
  {
   "cell_type": "code",
   "execution_count": 3,
   "metadata": {},
   "outputs": [],
   "source": [
    "# course dicts with only necessary fields for display and filtering\n",
    "minimal_keys = ('slug', 'code', 'name', 'section', 'semester', 'credits')\n",
    "courses_minimal = [dict((k, c[k]) for k in minimal_keys) for c in courses]"
   ]
  },
  {
   "cell_type": "code",
   "execution_count": 4,
   "metadata": {},
   "outputs": [],
   "source": [
    "def resolve_slugs(slugs, ingoing=False, outgoing=False):\n",
    "    # the courses listed in `slugs` are by default not\n",
    "    # part of the neighborhood\n",
    "    return [\n",
    "        {**c, 'ingoingNeighbor': ingoing, 'outgoingNeighbor': outgoing}\n",
    "        for c in courses_minimal\n",
    "        if c['slug'] in slugs\n",
    "    ]"
   ]
  },
  {
   "cell_type": "code",
   "execution_count": 5,
   "metadata": {},
   "outputs": [],
   "source": [
    "def filter_links(slugs):\n",
    "    return [\n",
    "        l for l in links\n",
    "        if l['source'] in slugs or l['target'] in slugs\n",
    "    ]"
   ]
  },
  {
   "cell_type": "code",
   "execution_count": 6,
   "metadata": {},
   "outputs": [],
   "source": [
    "def get_neighborhood(slugs):\n",
    "    links_filtered = filter_links(slugs)\n",
    "    \n",
    "    ingoing_links = [\n",
    "        l for l in links_filtered\n",
    "        if l['source'] not in slugs and l['target'] in slugs\n",
    "    ]\n",
    "    outgoing_links = [\n",
    "        l for l in links_filtered\n",
    "        if l['target'] not in slugs and l['source'] in slugs\n",
    "    ]\n",
    "    subgraph_links = [\n",
    "        l for l in links_filtered\n",
    "        if l not in ingoing_links and l not in outgoing_links\n",
    "    ]\n",
    "    ingoing_slugs = [l['source'] for l in ingoing_links]\n",
    "    outgoing_slugs = [l['target'] for l in outgoing_links]\n",
    "\n",
    "    ingoing_courses = resolve_slugs(ingoing_slugs, ingoing=True)\n",
    "    outgoing_courses = resolve_slugs(outgoing_slugs, outgoing=True)\n",
    "    \n",
    "    for cin in ingoing_courses:\n",
    "        for cout in outgoing_courses:\n",
    "            if cin['slug'] == cout['slug']:\n",
    "                # Course is part of both ingoing and outgoing neighborhoods\n",
    "                cin['ingoingNeighbor'] = True\n",
    "                cin['outgoingNeighbor'] = True\n",
    "                cout['ingoingNeighbor'] = True\n",
    "                cout['outgoingNeighbor'] = True\n",
    "\n",
    "    return {\n",
    "        'ingoingCourses': ingoing_courses,\n",
    "        'outgoingCourses': outgoing_courses,\n",
    "        'ingoingLinks': ingoing_links,\n",
    "        'outgoingLinks': outgoing_links,\n",
    "        'subgraphLinks': subgraph_links\n",
    "    }"
   ]
  },
  {
   "cell_type": "code",
   "execution_count": 7,
   "metadata": {},
   "outputs": [],
   "source": [
    "def get_filters(courses):\n",
    "    return {\n",
    "        'filters': {\n",
    "            'section': sorted({ c['section'] for c in courses }),\n",
    "            'semester': sorted({ c['semester'] for c in courses }),\n",
    "            'credits': sorted({ c['credits'] for c in courses })\n",
    "        }\n",
    "    }"
   ]
  },
  {
   "cell_type": "code",
   "execution_count": 8,
   "metadata": {},
   "outputs": [],
   "source": [
    "redis_url = getenv(\"REDIS_URL\")\n",
    "redis_url = redis_url if redis_url else 'redis://@localhost:6379'\n",
    "\n",
    "r = redis.Redis(ssl_cert_reqs=None).from_url(redis_url)"
   ]
  },
  {
   "cell_type": "code",
   "execution_count": 9,
   "metadata": {},
   "outputs": [],
   "source": [
    "def redis_key(*slugs, prefix_slug = 'epfl'):\n",
    "    return '_'.join([prefix_slug, *slugs])\n",
    "\n",
    "def redis_set(key, data_dict):\n",
    "    r.set(key, json.dumps(data_dict))"
   ]
  },
  {
   "cell_type": "code",
   "execution_count": 10,
   "metadata": {},
   "outputs": [],
   "source": [
    "# root data object\n",
    "# need to create a deep copy since we delete level['programs']\n",
    "cepfl = copy.deepcopy(epfl)\n",
    "cepfl_slugs = cepfl['courses']\n",
    "cepfl['courses'] = resolve_slugs(cepfl_slugs)\n",
    "cepfl = {\n",
    "    **cepfl,\n",
    "    'ingoingCourses': [],\n",
    "    'outgoingCourses': [],\n",
    "    'ingoingLinks': [],\n",
    "    'outgoingLinks': [],\n",
    "    'subgraphLinks': links,\n",
    "    **get_filters(cepfl['courses'])\n",
    "}\n",
    "\n",
    "for level in cepfl['levels']:\n",
    "    del level['programs']\n",
    "\n",
    "redis_set(redis_key(), cepfl)"
   ]
  },
  {
   "cell_type": "code",
   "execution_count": 11,
   "metadata": {},
   "outputs": [],
   "source": [
    "for level in epfl['levels']:\n",
    "    clevel = level\n",
    "    if level['slug'] == 'master':\n",
    "        # need to create a deep copy since we delete a property\n",
    "        clevel = copy.deepcopy(level)\n",
    "        for p in clevel['programs']:\n",
    "            del p['specializations']\n",
    "            \n",
    "    clevel_slugs = clevel['courses']\n",
    "    clevel['courses'] = resolve_slugs(clevel_slugs)\n",
    "    \n",
    "    clevel = {\n",
    "        **clevel,\n",
    "        **get_neighborhood(clevel_slugs),\n",
    "        **get_filters(clevel['courses'])\n",
    "    }\n",
    "\n",
    "    key = redis_key(level['slug'])\n",
    "    redis_set(key, clevel)\n",
    "    \n",
    "    for program in level['programs']:\n",
    "        program_slugs = program['courses']\n",
    "        program['courses'] = resolve_slugs(program_slugs)\n",
    "        \n",
    "        program = {\n",
    "            **program,\n",
    "            **get_neighborhood(program_slugs),\n",
    "            **get_filters(program['courses'])\n",
    "        }\n",
    "        \n",
    "        key = redis_key(level['slug'], program['slug'])\n",
    "        redis_set(key, program)\n",
    "        \n",
    "        if level['slug'] == 'master':\n",
    "            for specialization in program['specializations']:\n",
    "                specialization_slugs = specialization['courses']\n",
    "                specialization['courses'] = resolve_slugs(specialization_slugs)\n",
    "                specialization = {\n",
    "                    **specialization,\n",
    "                    **get_neighborhood(specialization_slugs),\n",
    "                    **get_filters(specialization['courses'])\n",
    "                }\n",
    "                \n",
    "                key = redis_key(level['slug'], program['slug'], specialization['slug'])\n",
    "                redis_set(key, specialization)"
   ]
  },
  {
   "cell_type": "code",
   "execution_count": 12,
   "metadata": {},
   "outputs": [],
   "source": [
    "for course in courses:\n",
    "    key = redis_key(course['slug'], prefix_slug='course')\n",
    "    redis_set(key, course)"
   ]
  }
 ],
 "metadata": {
  "kernelspec": {
   "display_name": "coursebook-env",
   "language": "python",
   "name": "coursebook-env"
  },
  "language_info": {
   "codemirror_mode": {
    "name": "ipython",
    "version": 3
   },
   "file_extension": ".py",
   "mimetype": "text/x-python",
   "name": "python",
   "nbconvert_exporter": "python",
   "pygments_lexer": "ipython3",
   "version": "3.9.1"
  }
 },
 "nbformat": 4,
 "nbformat_minor": 4
}
