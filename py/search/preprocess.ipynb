{
 "cells": [
  {
   "cell_type": "code",
   "execution_count": 1,
   "metadata": {},
   "outputs": [],
   "source": [
    "import pandas as pd\n",
    "from utils import read\n",
    "from search import helpers\n",
    "\n",
    "from sklearn.feature_extraction.text import TfidfVectorizer\n",
    "\n",
    "%reload_ext autoreload\n",
    "%autoreload 2"
   ]
  },
  {
   "cell_type": "code",
   "execution_count": 2,
   "metadata": {},
   "outputs": [],
   "source": [
    "courses_text = read.read_json_processed('courses-text')\n",
    "slug_keywords = pd.DataFrame(courses_text).T[['keywords']]\n",
    "# the index is the course slug\n",
    "slug_keywords.index.name = 'slug'\n",
    "slug_keywords.reset_index(inplace=True)\n",
    "\n",
    "courses = read.read_json_processed('courses')\n",
    "slug_name = pd.DataFrame(courses)[['slug', 'name']]\n",
    "\n",
    "df = pd.merge(slug_keywords, slug_name)\n",
    "\n",
    "df['search_string'] = df.keywords + ' ' + df.name + ' ' + df.slug.str.replace('-', '')\n",
    "df['search_string'] = df.search_string.str.strip()"
   ]
  },
  {
   "cell_type": "code",
   "execution_count": 3,
   "metadata": {},
   "outputs": [],
   "source": [
    "tfidf = TfidfVectorizer(analyzer='word', preprocessor=helpers.clean_text)\n",
    "features = tfidf.fit_transform(df.search_string)"
   ]
  },
  {
   "cell_type": "code",
   "execution_count": 4,
   "metadata": {},
   "outputs": [],
   "source": [
    "helpers.save_df(df, 'courses_df')\n",
    "helpers.save_sparsemat(features, 'features')\n",
    "helpers.save_pickle(tfidf, 'tfidf')"
   ]
  },
  {
   "cell_type": "code",
   "execution_count": 14,
   "metadata": {},
   "outputs": [],
   "source": [
    "d = df.loc[:2]"
   ]
  },
  {
   "cell_type": "code",
   "execution_count": 15,
   "metadata": {},
   "outputs": [],
   "source": [
    "d.insert(0, 'd', (4,4,5))"
   ]
  },
  {
   "cell_type": "code",
   "execution_count": 17,
   "metadata": {},
   "outputs": [
    {
     "data": {
      "text/plain": [
       "[1, 2, 3]"
      ]
     },
     "execution_count": 17,
     "metadata": {},
     "output_type": "execute_result"
    }
   ],
   "source": [
    "list((1,2,3))"
   ]
  }
 ],
 "metadata": {
  "kernelspec": {
   "display_name": "coursebook-env",
   "language": "python",
   "name": "coursebook-env"
  },
  "language_info": {
   "codemirror_mode": {
    "name": "ipython",
    "version": 3
   },
   "file_extension": ".py",
   "mimetype": "text/x-python",
   "name": "python",
   "nbconvert_exporter": "python",
   "pygments_lexer": "ipython3",
   "version": "3.9.1"
  }
 },
 "nbformat": 4,
 "nbformat_minor": 4
}
