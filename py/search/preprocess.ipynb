{
 "cells": [
  {
   "cell_type": "code",
   "execution_count": 1,
   "metadata": {},
   "outputs": [],
   "source": [
    "import numpy as np\n",
    "import pandas as pd\n",
    "from utils import read\n",
    "from search import helpers\n",
    "\n",
    "from sklearn.feature_extraction.text import TfidfVectorizer\n",
    "# Note that the tf-idf functionality in sklearn.feature_extraction.text can produce\n",
    "# normalized vectors, in which case cosine_similarity is equivalent to linear_kernel, only slower.\n",
    "# https://scikit-learn.org/stable/modules/metrics.html#cosine-similarity\n",
    "from sklearn.metrics.pairwise import linear_kernel\n",
    "\n",
    "%reload_ext autoreload\n",
    "%autoreload 2"
   ]
  },
  {
   "cell_type": "code",
   "execution_count": 4,
   "metadata": {},
   "outputs": [],
   "source": [
    "courses_text = read.read_json_processed('courses-text')\n",
    "slug_keywords = pd.DataFrame(courses_text).T[['summary', 'content', 'keywords']]\n",
    "# the index is the course slug\n",
    "slug_keywords.index.name = 'slug'\n",
    "slug_keywords.reset_index(inplace=True)\n",
    "\n",
    "courses = read.read_json_processed('courses')\n",
    "slug_code_name = pd.DataFrame(courses)[['slug', 'code', 'name']]\n",
    "\n",
    "df = pd.merge(slug_keywords, slug_code_name)\n",
    "\n",
    "df['token_string'] = df[['name', 'content', 'summary', 'keywords']].apply(lambda row: row.str.cat(sep=' '), axis=1).str.strip()\n",
    "# df['token_string'] = df.search_string.str.strip()\n",
    "df['token_string_with_slug'] = df.token_string.str.cat(df.slug, sep=' ')"
   ]
  },
  {
   "cell_type": "code",
   "execution_count": 5,
   "metadata": {},
   "outputs": [],
   "source": [
    "tfidf = TfidfVectorizer(analyzer='word', preprocessor=helpers.clean_text)\n",
    "features = tfidf.fit_transform(df.token_string)\n",
    "features_withslug = tfidf.fit_transform(df.token_string_with_slug)"
   ]
  },
  {
   "source": [
    "courseindex = pd.Series(df.slug, name=None)\n",
    "helpers.save_df(courseindex, 'index')"
   ],
   "cell_type": "code",
   "metadata": {},
   "execution_count": 6,
   "outputs": []
  },
  {
   "cell_type": "code",
   "execution_count": 7,
   "metadata": {},
   "outputs": [],
   "source": [
    "cos = linear_kernel(features)\n",
    "# zero elements above (and including) the diagonal \n",
    "# --> no duplicates or self-similarities\n",
    "cosdf = pd.DataFrame(np.tril(cos, k=-1)).round(2)\n",
    "# np.fill_diagonal(cosdf.values, 0)"
   ]
  },
  {
   "cell_type": "code",
   "execution_count": 8,
   "metadata": {},
   "outputs": [
    {
     "output_type": "stream",
     "name": "stdout",
     "text": [
      "Similarity threshold: 0.2 --- Sparse matrix density: 0.0017657136105860114\n",
      "Similarity threshold: 0.25 --- Sparse matrix density: 0.0010426512287334594\n",
      "Similarity threshold: 0.3 --- Sparse matrix density: 0.0006713728733459357\n",
      "Similarity threshold: 0.35 --- Sparse matrix density: 0.00044866493383742914\n",
      "Similarity threshold: 0.4 --- Sparse matrix density: 0.0003101370510396975\n",
      "Similarity threshold: 0.45 --- Sparse matrix density: 0.00022536625708884688\n",
      "Similarity threshold: 0.5 --- Sparse matrix density: 0.0001846053875236295\n",
      "Similarity threshold: 0.55 --- Sparse matrix density: 0.00014473062381852554\n",
      "Similarity threshold: 0.6 --- Sparse matrix density: 0.00012228260869565218\n",
      "Similarity threshold: 0.65 --- Sparse matrix density: 0.00010396975425330812\n",
      "Similarity threshold: 0.7 --- Sparse matrix density: 9.097353497164463e-05\n",
      "Similarity threshold: 0.75 --- Sparse matrix density: 8.004489603024575e-05\n",
      "Similarity threshold: 0.8 --- Sparse matrix density: 6.852551984877126e-05\n",
      "Similarity threshold: 0.85 --- Sparse matrix density: 5.9073724007561445e-05\n",
      "Similarity threshold: 0.9 --- Sparse matrix density: 4.844045368620038e-05\n",
      "Similarity threshold: 0.95 --- Sparse matrix density: 3.69210775047259e-05\n"
     ]
    }
   ],
   "source": [
    "for i in range(20, 100, 5):\n",
    "    sim_threshold = i/100\n",
    "    cosdf[cosdf < sim_threshold] = 0\n",
    "    scosdf = cosdf.astype(pd.SparseDtype('float', fill_value=0))\n",
    "    print(f'Similarity threshold: {sim_threshold} --- Sparse matrix density: {scosdf.sparse.density}')\n",
    "    filename = f'sim{i}'\n",
    "    helpers.save_sparsemat(scosdf.sparse.to_coo(), filename)"
   ]
  },
  {
   "cell_type": "code",
   "execution_count": 9,
   "metadata": {},
   "outputs": [],
   "source": [
    "helpers.save_df(df, 'courses_df')\n",
    "# include slug in features for query engine (enables search by course code)\n",
    "helpers.save_sparsemat(features_withslug, 'features')\n",
    "helpers.save_pickle(tfidf, 'tfidf')"
   ]
  }
 ],
 "metadata": {
  "kernelspec": {
   "name": "python391jvsc74a57bd0c7d5dbb052a9f3f1d3a496e478ca3afbad7ea4149eae0542bf3aea0b737f55bb",
   "display_name": "Python 3.9.1 64-bit ('env': venv)"
  },
  "language_info": {
   "codemirror_mode": {
    "name": "ipython",
    "version": 3
   },
   "file_extension": ".py",
   "mimetype": "text/x-python",
   "name": "python",
   "nbconvert_exporter": "python",
   "pygments_lexer": "ipython3",
   "version": "3.9.1"
  }
 },
 "nbformat": 4,
 "nbformat_minor": 4
}